{
  "cells": [
    {
      "cell_type": "markdown",
      "metadata": {},
      "source": [
        "---\n",
        "code-fold: false\n",
        "jupyter: python3\n",
        "bibliography: ../refs.bib\n",
        "---\n",
        "\n",
        "\n",
        "# Resources\n",
        "\n",
        "This page collects data sources, alternative texts, and links to other topics that may help interested readers complete projects or go further in their explorations. \n",
        "\n",
        "## Texts and Lecture Notes \n",
        "\n",
        "- [Aaron Clauset](https://aaronclauset.github.io/) at CU Boulder maintains excellent lecture notes on [Network Analysis and Modeling](https://aaronclauset.github.io/courses/5352/) and [Biological Networks](https://aaronclauset.github.io/courses/3352/). \n",
        "- [*Lectures on Network Systems*](http://motion.me.ucsb.edu/book-lns/), a free book by [Francesco Bullo](http://motion.me.ucsb.edu/) at UC Santa Barbara covering a range of important topics related to dynamical systems on networks. The development of the linear algebra toolbox for approaching network problems is clear and of high general utility.   \n",
        "- [*The Atlas for the Aspiring Network Scientist*](https://arxiv.org/pdf/2101.00863.pdf) by Michele Coscia contains brief discussion of a very large cross section of the math, models, and ideas of network science. \n",
        "- [A short course in network science](https://net-science.github.io) at the University of Utrecht Summer School by [Javier Garcia-Bernardo](https://javier.science/), [Leto Peel](https://piratepeel.github.io/), [Mahdi Shafiee Kamalabad](https://www.uu.nl/medewerkers/MShafieeKamalabad), [Jiamin Ou](https://www.uu.nl/medewerkers/JOu), and [Vincent Buskens](https://www.uu.nl/medewerkers/vbuskens). \n",
        "- [*Economic Networks: Theory and Computation*](https://arxiv.org/pdf/2203.11972.pdf) by John Stachurski and Thomas J. Sargent. \n",
        "\n",
        "## Data Sources \n",
        "\n",
        "- The [Colorado Index of Complex Networks](https://icon.colorado.edu/networks) (ICON) is maintained by [Aaron Clauset](https://aaronclauset.github.io/)'s group at CU Boulder. It contains a large number of research-quality network data sets. \n",
        "- The [Network Data Repository](https://networkrepository.com/platform.php) by Rossi and Ahmed contains several hundred network data sets, usefully sorted into categories. \n",
        "\n",
        "## Software\n",
        "\n",
        "### Network Analysis\n",
        "\n",
        "- [Networkx](https://networkx.org/documentation/stable/index.html) is the primary software used in this course. It is a reliable, easy-to-use choice for the analysis of small-to-medium sized networks. \n",
        "- [igraph](https://python.igraph.org/en/stable/) has a somewhat more opaque interface, but is considerably more performant and recommended for large networks. \n",
        "- [XGI](https://xgi.readthedocs.io/en/stable/) by @Landry_XGI_2023 is a library for studying higher-order networks in which edges can contain more than two nodes. Hypergraphs and simplicial complexes are important modeling frameworks for higher-order networks. \n",
        "\n",
        "### Webscraping\n",
        "\n",
        "Many data sets derived from internet sources are gathered by webscraping. Several libraries facilitate webscraping in Python: \n",
        "\n",
        "- [BeautifulSoup](https://beautiful-soup-4.readthedocs.io/en/latest/) for HTML parsing. \n",
        "- [Scrapy](https://docs.scrapy.org/en/latest/) for navigating through websites. \n",
        "\n",
        "## References\n"
      ],
      "id": "d807e1ae"
    }
  ],
  "metadata": {
    "kernelspec": {
      "name": "python3",
      "language": "python",
      "display_name": "Python 3 (ipykernel)",
      "path": "/Users/philchodrow/opt/anaconda3/envs/ml-0451/share/jupyter/kernels/python3"
    }
  },
  "nbformat": 4,
  "nbformat_minor": 5
}