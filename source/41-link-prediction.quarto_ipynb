{
  "cells": [
    {
      "cell_type": "markdown",
      "metadata": {},
      "source": [
        "---\n",
        "code-fold: false\n",
        "code-summary: \"Show code\"\n",
        "bibliography: ../refs.bib\n",
        "cap-location: margin\n",
        "---\n",
        "\n",
        "\n",
        "# Link Prediction and Feedback Loops\n",
        "\n",
        "\n",
        "In this set of lectures, we'll study an important task in network data science: **link prediction**. [Link prediction was popularized as a task in network analysis and machine learning by @liben2003link]{.aside} The link prediction task is to, given a current network and possibly some additional data, predict future edges. This task has many applications: \n",
        "\n",
        "- In scientific tasks, we may not be able to collect data on all the edges that we are interested in. If we can develop a model that allows us to predict missing edges, we might be able to learn something about the overall network structure even from partial data. \n",
        "- Many online recommendation systems are in fact link prediction algorithms. When Facebook recommends a friend to you, for example, this is usually done by training an algorithm that predicts edges in a social network based on attributes, shared friends, etc. \n",
        "\n",
        "In the first part of these lecture notes, we'll implement a simple link prediction model. In the second part, we'll do a simple simulation to learn about how link prediction models can change the structure of social networks. \n",
        "\n",
        "[We mostly won't write our own code in these notes: a lot of the code involves manipulation of data frames or machine learning workflows which we don't assume that you've learned yet. The [Python Data Science Handbook](https://jakevdp.github.io/PythonDataScienceHandbook/) by Jake VanderPlas is an outstanding resource for learning these tools.]{.aside}\n",
        "\n",
        "\n",
        "## Implementing Link Prediction\n",
        "\n",
        "\n",
        "### Data Acquisition and Splitting\n",
        "\n",
        "Our data set for this experiment is the network of social interactions in a French high school [@fournet2014contact], which we also studied in a [previous chapter on modularity maximization](13-modularity-maximization.qmd). \n"
      ],
      "id": "fe9c01a3"
    },
    {
      "cell_type": "code",
      "metadata": {},
      "source": [
        "#| code-fold: true\n",
        "import networkx as nx\n",
        "import pandas as pd\n",
        "import numpy as np\n",
        "from matplotlib import pyplot as plt\n",
        "plt.style.use('seaborn-v0_8-whitegrid')\n",
        "\n",
        "from itertools import product\n",
        "\n",
        "from sklearn.linear_model import LogisticRegression \n",
        "from sklearn.model_selection import train_test_split\n",
        "from sklearn import metrics"
      ],
      "id": "6230469c",
      "execution_count": null,
      "outputs": []
    },
    {
      "cell_type": "markdown",
      "metadata": {},
      "source": [
        "::: {.column-margin}\n",
        "\n",
        "This hidden code cell imports several packages that we'll need for the experiments shown in this chapter. \n",
        "\n",
        ":::\n",
        "\n",
        "\n",
        "Let's go ahead and acquire the data. We'll also do a bit of cleaning. \n"
      ],
      "id": "697ba6c8"
    },
    {
      "cell_type": "code",
      "metadata": {},
      "source": [
        "url = \"https://raw.githubusercontent.com/network-science-notes/network-science-notes.github.io/refs/heads/main/data/contact-high-school.csv\"\n",
        "\n",
        "contact = pd.read_csv(url, sep = \"\\t\", names = [\"time\", \"source\", \"target\", \"class1\", \"class2\"])[[\"source\", \"target\"]]\n",
        "\n",
        "# remove a small number of self-loops\n",
        "contact = contact[contact[\"source\"] < contact[\"target\"]]"
      ],
      "id": "c863ad0a",
      "execution_count": null,
      "outputs": []
    },
    {
      "cell_type": "markdown",
      "metadata": {},
      "source": [
        "### Train-Test Split\n",
        "\n",
        "Now we'll perform a split into training and testing data. The idea is that we will use the training data for tuning our model, while we'll use the testing data for evaluating the model. We won't actually compute the predictive performance of the model on the testing data until we are done with all of our training. \n"
      ],
      "id": "7fa23f1c"
    },
    {
      "cell_type": "code",
      "metadata": {},
      "source": [
        "# number of interactions to include in training data\n",
        "m_train = 30000\n",
        "\n",
        "train = contact.loc[0:m_train,:].copy()\n",
        "test = contact.loc[m_train:,:].copy()"
      ],
      "id": "451e6789",
      "execution_count": null,
      "outputs": []
    },
    {
      "cell_type": "markdown",
      "metadata": {},
      "source": [
        "It can be very difficult to make useful predictions about whether or not an edge emerges if we don't know anything already about the nodes. For this reason, we are going to restrict the test set so that all nodes in the test set are also seen at least once in the training set. \n"
      ],
      "id": "a3442cc8"
    },
    {
      "cell_type": "code",
      "metadata": {},
      "source": [
        "# we are only going to attempt to make predictions about the existence of an \n",
        "# edge between two nodes in cases when both nodes had at least one edge \n",
        "# in the training data. \n",
        "\n",
        "train_nodes = np.unique(np.concatenate([train.source, train.target]))\n",
        "test[\"found_source\"] = test.source.map(lambda x: x in train_nodes)\n",
        "test[\"found_target\"] = test.target.map(lambda x: x in train_nodes)\n",
        "test = test[test.found_source & test.found_target]"
      ],
      "id": "a654cfe6",
      "execution_count": null,
      "outputs": []
    },
    {
      "cell_type": "markdown",
      "metadata": {},
      "source": [
        "Finally, rather than try to predict the *number* of interactions between two agents, we are instead just going to focus on whether or not there was at least one. To do this, we'll create new versions of our data frames in which each pair appears exactly once. \n"
      ],
      "id": "69792651"
    },
    {
      "cell_type": "code",
      "metadata": {},
      "source": [
        "train   = train.groupby([\"source\", \"target\"]).count().reset_index()\n",
        "test    = test.groupby([\"source\", \"target\"]).count().reset_index()"
      ],
      "id": "5d7ddc24",
      "execution_count": null,
      "outputs": []
    },
    {
      "cell_type": "markdown",
      "metadata": {},
      "source": [
        "Our final data sets \n"
      ],
      "id": "b72345f9"
    },
    {
      "cell_type": "code",
      "metadata": {},
      "source": [
        "print(f\"{train.shape[0]} edges in training data.\")\n",
        "print(f\"{test.shape[0]} edges in testing data.\")"
      ],
      "id": "f3a27d24",
      "execution_count": null,
      "outputs": []
    },
    {
      "cell_type": "markdown",
      "metadata": {},
      "source": [
        "Although we've been working with these data sets as data frames, they do both define networks: a training network and a testing network. \n"
      ],
      "id": "f3267342"
    },
    {
      "cell_type": "code",
      "metadata": {},
      "source": [
        "G_train = nx.from_pandas_edgelist(train)"
      ],
      "id": "a12804ae",
      "execution_count": null,
      "outputs": []
    },
    {
      "cell_type": "markdown",
      "metadata": {},
      "source": [
        "Here's a picture of the resulting network, with communities found via the Louvain algorithm for approximate modularity maximization: [We could also study the \"communities\" defined by the true labels in the data, although we won't pursue that here.]{.aside}\n"
      ],
      "id": "a9099432"
    },
    {
      "cell_type": "code",
      "metadata": {},
      "source": [
        "#| code-fold: true\n",
        "def louvain_communities(G, return_partition = False):\n",
        "\n",
        "    # run Louvain\n",
        "    comms  = nx.community.louvain_communities(G, resolution = 1)\n",
        "\n",
        "    # process the labels\n",
        "    labels = [l for i in G.nodes for l in range(len(comms)) if i in comms[l]]\n",
        "    node_list = list(G.nodes)\n",
        "    comm_dict = {node_list[i] : labels[i] for i in range(len(node_list))}\n",
        "    \n",
        "    if return_partition:\n",
        "        return comm_dict, comms\n",
        "\n",
        "    return comm_dict\n",
        "\n",
        "def louvain_plot(G, ax, clusters = None, pos = None, **kwargs):\n",
        "    \n",
        "    node_kwargs = {\"node_size\" : 50, \"edgecolors\" : 'black'}\n",
        "\n",
        "    if not clusters:\n",
        "        clusters = louvain_communities(G)\n",
        "\n",
        "    # draw the result\n",
        "    if not pos: \n",
        "        pos = nx.fruchterman_reingold_layout(G)\n",
        "    labels = [clusters[i] for i in G.nodes]\n",
        "\n",
        "    if clusters is not None: \n",
        "        num_clusters = np.unique(list(clusters.values())).shape[0]\n",
        "        cluster_to_color = [plt.cm.Set3(i) for i in range(num_clusters)]\n",
        "        node_kwargs[\"node_color\"] = [cluster_to_color[clusters[i]] for i in G.nodes()]\n",
        "    if pos is None: \n",
        "        pos = nx.spring_layout(G)\n",
        "\n",
        "    edge_kwargs = {\"edge_color\" : \"gray\", \"alpha\" : 0.3}\n",
        "    nx.draw_networkx_edges(G, pos, ax = ax, **edge_kwargs)\n",
        "    nx.draw_networkx_nodes(G, pos, ax = ax, **node_kwargs)\n",
        "    off = ax.axis(\"off\")"
      ],
      "id": "2011838d",
      "execution_count": null,
      "outputs": []
    },
    {
      "cell_type": "markdown",
      "metadata": {},
      "source": [
        "::: {.column-margin}\n",
        "\n",
        "This hidden code cell implements the code for the `louvain_plot` function used below. \n",
        "\n",
        ":::\n"
      ],
      "id": "9d4abb87"
    },
    {
      "cell_type": "code",
      "metadata": {},
      "source": [
        "#| fig-cap: High-school contact network, with community structure found via the Louvain algorithm for modularity maximization.  \n",
        "#| cap-location: margin\n",
        "fig, ax = plt.subplots(1, 1)\n",
        "louvain_plot(G_train, ax = ax)"
      ],
      "id": "17eb9b5e",
      "execution_count": null,
      "outputs": []
    },
    {
      "cell_type": "markdown",
      "metadata": {},
      "source": [
        "### Data Preparation\n",
        "\n",
        "There are two important steps of data preparation that we need to implement. \n",
        "\n",
        "In the first step, we need to add *negative examples* to our training data. A negative example is simply a pair of nodes that *don't* have an edge between them. We want our algorithm to be able to tell the difference between interactions which occurred and *interactions which did not occur*. To do this, we need to be able to show our model some potential interactions which did not actually occur in the data. We'll therefore add *negative examples*: pairs of nodes which did *not* interact. \n",
        "\n",
        "In the second step, we are going to engineer *features* for each pair of nodes. This is an extremely flexible step, which can make use of many different kinds of techniques. We're going to use some of the tools that we developed in this course as features. \n",
        "\n",
        "#### Negative Examples\n",
        "\n",
        "Let's go ahead and implement negative examples. \n"
      ],
      "id": "9e11b57e"
    },
    {
      "cell_type": "code",
      "metadata": {},
      "source": [
        "#| code-fold: true\n",
        "def add_negative_examples(df):\n",
        "\n",
        "    # new copy of input data frame, with a new column\n",
        "    df_ = df.copy()\n",
        "    df_[\"link\"] = 1\n",
        "\n",
        "    # data frame with all node pairs\n",
        "    node_list = np.unique(np.append(df_[\"source\"], df_[\"target\"]))\n",
        "    negative = pd.DataFrame(product(node_list, node_list), columns = [\"source\", \"target\"])\n",
        "    negative = negative[negative[\"source\"] < negative[\"target\"]]\n",
        "\n",
        "    # add real data and make a column distinguishing positive from negative examples\n",
        "    merged_df = pd.merge(negative, df_, on = [\"source\", \"target\"], how = \"left\")\n",
        "    merged_df[\"link\"] = merged_df[\"link\"] == 1\n",
        "\n",
        "    return merged_df"
      ],
      "id": "307eeab9",
      "execution_count": null,
      "outputs": []
    },
    {
      "cell_type": "markdown",
      "metadata": {},
      "source": [
        "::: {.column-margin} \n",
        "\n",
        "The function in the hidden code block creates a new data frame that contains *all* pairs of nodes in the graph. A new `link` column distinguishes which pairs of nodes actually have edges. \n",
        "\n",
        ":::\n",
        "\n",
        "\n",
        "Here's how this looks: \n"
      ],
      "id": "3f42fbc9"
    },
    {
      "cell_type": "code",
      "metadata": {},
      "source": [
        "train = add_negative_examples(train)\n",
        "train.sort_values(\"link\", ascending = False)"
      ],
      "id": "cdc31bbe",
      "execution_count": null,
      "outputs": []
    },
    {
      "cell_type": "markdown",
      "metadata": {},
      "source": [
        "After this step, the training data actually contains very few positive examples: \n"
      ],
      "id": "127e29e5"
    },
    {
      "cell_type": "code",
      "metadata": {},
      "source": [
        "train[\"link\"].mean()"
      ],
      "id": "7ca3c95a",
      "execution_count": null,
      "outputs": []
    },
    {
      "cell_type": "markdown",
      "metadata": {},
      "source": [
        "We're hoping that our model is able to learn some information about what makes these 11% of node pairs more likely to have edges than the other 89%. \n",
        "\n",
        "#### Feature Engineering\n",
        "\n",
        "We now need to create *features* for our model to use to make predictions. We can think of features as \"things we think should be useful for predicting the presence of an edge.\" This is where we need to bring in some theory: what *does* make two nodes more likely to have an edge between them? There are a lot of possibilities here, not all of which will necessarily work. Here, we're going to predict whether or not there is an edge between nodes $i$ and $j$ using the following features: \n",
        "\n",
        "- The class of the source node $i$, $g_i$. \n",
        "- The class of the target node $j$, $g_j$.\n",
        "- The number of interactions that the source node $i$ has had in the training data (i.e. the degree of $i$), $k_i$.\n",
        "- The number of interactions that the target node $j$ has had in the training data (i.e. the degree of $j$), $k_j$.\n",
        "- The number of common neighbors of $i$ and $j$ in the training data, which we'll call $c_{ij}$. This idea is related to *triadic closure*, which we studied earlier in these notes -- if the two nodes share a lot of common neighbors, then a link between them would result in more closed triangles. \n",
        "\n",
        "The following, rather complicated function creates a data frame containing all of these features. Because we're adding columns to `pandas` data frames, we usually `apply` functions in order to skip `for`-loops and their ilk. \n"
      ],
      "id": "079333fd"
    },
    {
      "cell_type": "code",
      "metadata": {},
      "source": [
        "def compute_features(df, G = None, comm_dict = None):\n",
        "\n",
        "    # make the graph if it's not supplied externally\n",
        "    if not G:\n",
        "        edges = df[df[\"link\"]]\n",
        "        G = nx.from_pandas_edgelist(edges)\n",
        "\n",
        "    # make the community labels if not supplied externally. \n",
        "    if not comm_dict: \n",
        "        comm_dict = louvain_communities(G)\n",
        "    \n",
        "    # columns for degree of each node in G\n",
        "    df[\"deg_source\"] = df.source.apply(lambda x: G.degree(x))\n",
        "    df[\"deg_target\"] = df.target.apply(lambda x: G.degree(x))\n",
        "\n",
        "    \n",
        "    # communities of each node in G\n",
        "    comm_source = df.source.apply(lambda x: comm_dict[x])\n",
        "    comm_target = df.target.apply(lambda x: comm_dict[x])\n",
        "\n",
        "    # number of common neighbors -- networkx has a handy function that does\n",
        "    # this for us! Just gotta get a little fancy with the anonymous function \n",
        "    # calls. \n",
        "    df[\"common_neighbors\"] = df[[\"source\", \"target\"]].apply(lambda pair: len(list(nx.common_neighbors(G, pair.source, pair.target))), axis = 1)\n",
        "\n",
        "    # add dummy columns for the combination of each community. \n",
        "    combined_comm = \"C\" + comm_source.map(str) + comm_target.map(str)\n",
        "    df = pd.concat([df, pd.get_dummies(combined_comm)], axis = 1)\n",
        "\n",
        "    return df"
      ],
      "id": "c7e2357d",
      "execution_count": null,
      "outputs": []
    },
    {
      "cell_type": "markdown",
      "metadata": {},
      "source": [
        "Let's apply this function to our training data. To do so, we need to supply a community partition:\n"
      ],
      "id": "baeda5ef"
    },
    {
      "cell_type": "code",
      "metadata": {},
      "source": [
        "comm_dict_train = louvain_communities(G_train)\n",
        "train = compute_features(train, G_train, comm_dict_train)"
      ],
      "id": "82515a47",
      "execution_count": null,
      "outputs": []
    },
    {
      "cell_type": "markdown",
      "metadata": {},
      "source": [
        "Time to inspect the results! "
      ],
      "id": "65f2089f"
    },
    {
      "cell_type": "code",
      "metadata": {},
      "source": [
        "train"
      ],
      "id": "27a44bd0",
      "execution_count": null,
      "outputs": []
    },
    {
      "cell_type": "markdown",
      "metadata": {},
      "source": [
        "We can see that we have a lot more columns that we started with. The `C` columns hold information about the communities of the nodes involved. For example, `C13` means that the `source` node is in community `1` and the `target` node is in community `3`. In each row, only one of these columns can have value `True`.  \n",
        "\n",
        "\n",
        "::: {.callout-note}\n",
        "\n",
        "Brainstorm! What are some other examples of features that you would compute between a pair of nodes in order to assess whether or not they are likely to have an edge between them? What if you had access to additional metadata about the nodes? What if the network was directed? \n",
        "\n",
        "::: \n",
        "\n",
        "\n",
        "### Model Training and Interpretation\n",
        "\n",
        "\n",
        "We have now assembled a number of features for our data. How are we going to turn these features into predictions? Our overall strategy will be to use a linear model. A linear model assigns a score $s_{ij}$ to each pair of nodes $i$ and $j$, which is computed using the features we have constructed. Our score function for this set of features will be: \n",
        "\n",
        "$$\n",
        "\\begin{aligned}\n",
        "s_{ij} = \\beta_0 + \\beta_1 k_{i} + \\beta_2 k_{j}  + \\beta_3 \\text{(common neighbors)}_{ij} + \\gamma_{C_i,C_j}\\;,\n",
        "\\end{aligned}\n",
        "$$\n",
        "\n",
        "where $C_i$ and $C_j$ are the communities of nodes $i$ and $j$, respectively. The $\\gamma$ terms are coefficients that are specific to each pair of communities. The idea is that we'll compute scores for all possible pairs of nodes, and predict that the pairs with the highest scores are the ones that are most likely to have edges form between them.\n",
        "\n",
        "In order to do this, we need to figure out how to learn the parameters $\\beta_0,\\; \\beta_1,\\; \\beta_2,\\; \\beta_3,\\; \\gamma$ from data. We'll do this using logistic regression. To do this, we extract a matrix `X_train` containing only the feature columns, and a vector `y_train` containing the target `link` variable.\n"
      ],
      "id": "64671f7f"
    },
    {
      "cell_type": "code",
      "metadata": {},
      "source": [
        "feature_cols = [col for col in train.columns if col not in [\"source\", \"target\", \"link\"]]\n",
        "\n",
        "X_train = train[feature_cols]\n",
        "y_train = train[\"link\"]"
      ],
      "id": "2918a140",
      "execution_count": null,
      "outputs": []
    },
    {
      "cell_type": "markdown",
      "metadata": {},
      "source": [
        "Now we can fit the model: \n"
      ],
      "id": "7ffb33ac"
    },
    {
      "cell_type": "code",
      "metadata": {},
      "source": [
        "model   = LogisticRegression(solver = \"liblinear\")\n",
        "fit     = model.fit(X_train, y_train)"
      ],
      "id": "539e4d63",
      "execution_count": null,
      "outputs": []
    },
    {
      "cell_type": "markdown",
      "metadata": {},
      "source": [
        "What did our model learn about the features? Which of these features help predict whether an edge is going to be observed between two nodes? Let's take a look at the coefficients: \n"
      ],
      "id": "83d2f46d"
    },
    {
      "cell_type": "code",
      "metadata": {},
      "source": [
        "pd.DataFrame({\n",
        "    \"feature\" : model.feature_names_in_,\n",
        "    \"coef\" : model.coef_[0]\n",
        "})"
      ],
      "id": "d55f6005",
      "execution_count": null,
      "outputs": []
    },
    {
      "cell_type": "markdown",
      "metadata": {},
      "source": [
        "*Positive* coefficients indicate that larger values of the feature make edges more likely, while negative coefficients indicate the opposite. There's a lot to take in, but let's focus on some of the big picture highlights: \n",
        "\n",
        "First, the first three features all have positive coefficients. This indicates that an edge is more likely between two nodes when: \n",
        "\n",
        "- Each node has higher degree. \n",
        "- The two nodes share many common neighbors. \n",
        "\n",
        "It's interesting to note that the coefficient of the number of common neighbors is *so* much higher than the coefficients for the individual node degrees. According to our model, adding 5 neighbors to each node in a pair has less of an impact on the likelihood of an edge than adding a single neighbor that is *shared* by both of them. \n",
        "\n",
        "Second, while the community features can be a little hard to interpret, the thing that sticks out is that the features with the most positive coefficients are the ones in which both nodes belong to the same community. This tells us that edges are more likely to exist between nodes in the same community, which makes sense -- this is pretty much guaranteed based on how modularity maximization defines communities in the first place. \n",
        "\n",
        "### Model Evaluation\n",
        "\n",
        "It's all well and good to fit our model on training data and interpret the coefficient, but this doesn't necessarily tell us anything about the ability of our model to make *predictions* about the future. To do this, we need to look at our test data. In this case, it's important that we pass the test data through the same preprocessing as we did before, adding negative examples and feature columns. Very importantly, we pass the graph `G_train` and the community labels `comm_dict_train` as an argument to `compute_features` in order to ensure that things like degree and community structure are calculated using only training data, not testing data. Using testing data to construct the features would be cheating!\n"
      ],
      "id": "dcbf81ac"
    },
    {
      "cell_type": "code",
      "metadata": {},
      "source": [
        "test = add_negative_examples(test)\n",
        "test = compute_features(test, G_train, comm_dict_train)\n",
        "\n",
        "X_test = test[feature_cols]\n",
        "y_test = test[\"link\"]"
      ],
      "id": "514e10df",
      "execution_count": null,
      "outputs": []
    },
    {
      "cell_type": "markdown",
      "metadata": {},
      "source": [
        "We can now get the model's predicted probability of edge presence for each pair of nodes. [The predicted probability of an edge between nodes $i$ and $j$ is $\\sigma(s_{ij})$, where $s_{ij}$ is the score for the pair $(i,j)$ and $\\sigma(x) = \\frac{1}{1 + e^{-x}}$ is the logistic sigmoid function.]{.aside}\n"
      ],
      "id": "d6d91a64"
    },
    {
      "cell_type": "code",
      "metadata": {},
      "source": [
        "y_pred = model.predict_proba(X_test)[::,1]"
      ],
      "id": "3f660e08",
      "execution_count": null,
      "outputs": []
    },
    {
      "cell_type": "markdown",
      "metadata": {},
      "source": [
        "We can interpret these predictions like this: \n"
      ],
      "id": "a24f7c09"
    },
    {
      "cell_type": "code",
      "metadata": {},
      "source": [
        "i = 1932\n",
        "f\"Our model predicts that the probability of a new edge between nodes {test['source'][i]} and {test['target'][i]} is approximately {np.round(y_pred[i], 2)}.\""
      ],
      "id": "f6d3fce7",
      "execution_count": null,
      "outputs": []
    },
    {
      "cell_type": "markdown",
      "metadata": {},
      "source": [
        "How accurate are these predictions? We can use the `score` method of the model to compute the accuracy of the model on the test data on the prediction task. [By default, the model is predicting the presence of an edge iff $\\sigma(s_{ij}) > 0.5$. ]{.aside}\n"
      ],
      "id": "d3b098ec"
    },
    {
      "cell_type": "code",
      "metadata": {},
      "source": [
        "model.score(X_test, y_test)"
      ],
      "id": "f95d01bb",
      "execution_count": null,
      "outputs": []
    },
    {
      "cell_type": "markdown",
      "metadata": {},
      "source": [
        "Over all, our model achieves an accuracy of roughly 90% in the task of predicting the presence of edges in the test data. Is this a good result? Not especially, actually. The reason is that the test set contains very few positive examples: \n"
      ],
      "id": "803c8d3f"
    },
    {
      "cell_type": "code",
      "metadata": {},
      "source": [
        "test[\"link\"].mean()"
      ],
      "id": "7c2eb09b",
      "execution_count": null,
      "outputs": []
    },
    {
      "cell_type": "markdown",
      "metadata": {},
      "source": [
        "So, an algorithm that predicted that no edges would form between any pair of nodes would have an accuracy of around 92%. Our model isn't any better than this! \n",
        "\n",
        "This doesn't mean that our model is poor, just that accuracy is not the right way to assess it. A more sophisticated way to assess a binary classification model is to compute the area under the receiver operating characteristic curve (often just called the \"area under the curve\" or \"AUC\" for short). The AUC measures the tradeoff between false positive and true positive rates when varying the threshold score required to predict the presence of an edge.\n"
      ],
      "id": "e41ef1f5"
    },
    {
      "cell_type": "code",
      "metadata": {},
      "source": [
        "#| fig-cap: Receiver operating characteristic curve for the link prediction model. A curve that bends farther toward the top-left corner indicates a better model. The hidden code block shows how to compute and plot the ROC curve for our model and compute the AUC. \n",
        "#| cap-location: margin\n",
        "#| code-fold: true\n",
        "\n",
        "fig, ax = plt.subplots(1, 1)\n",
        "\n",
        "auc = metrics.roc_auc_score(y_test, y_pred)\n",
        "false_positive_rate, false_negative_rate, _ = metrics.roc_curve(y_test,  y_pred)\n",
        "\n",
        "ax.plot(false_positive_rate,false_negative_rate)\n",
        "ax.set(title = f\"Area Under ROC = {np.round(auc, 2)}\", \n",
        "       ylabel = \"True Positive Rate\", \n",
        "       xlabel = \"False Positive Rate\")\n",
        "\n",
        "ax.plot([0,1], [0,1], color = \"grey\", linestyle = \"--\")"
      ],
      "id": "fd94cb1c",
      "execution_count": null,
      "outputs": []
    },
    {
      "cell_type": "markdown",
      "metadata": {},
      "source": [
        "An AUC of 50% corresponds to a model that has failed to learn anything about the data, while an AUC of 100% corresponds to perfect prediction. The AUC we've realized here isn't perfect, but it shows that we are able to predict the formation of new edges much more accurately than would be possible by random chance. \n",
        "\n",
        "\n",
        "\n",
        "\n",
        "\n",
        "\n",
        "## Impact of Algorithmic Recommendations on Social Networks\n",
        "\n",
        "Link prediction algorithms are often used by apps and platforms to make recommendations. When Twitter suggests a new profile for you to follow, for example, they often do this on the basis of a link prediction algorithm: users like you have often followed profiles like that one in the past, and so they think that you might like to follow it now. From the perspective of the company making these recommendations, the overall purpose is to increase \"engagement\" on their platform. More engagement leads to more time spent scrolling, which leads to more time watching money-making ads. \n",
        "\n",
        "But what happens to the structure of social networks under the influence of link-prediction algorithms? The details of course here depend on the algorithm, but let's use a version of the one we used in the previous section. We're going to wrap the whole thing up in a Python class. The idea is that we are going to repeatedly:\n",
        "\n",
        "1. Train a link prediction model on the current state of the network.\n",
        "2. Update the network by allowing some edges to decay and replacing them with new edges that the model predicts are likely to form.\n"
      ],
      "id": "5639a43b"
    },
    {
      "cell_type": "code",
      "metadata": {},
      "source": [
        "#| code-fold: true\n",
        "class LinkPredictionSimulator:\n",
        "\n",
        "    def __init__(self, edge_df, **kwargs):\n",
        "    \n",
        "        self.edge_df = edge_df.copy()\n",
        "        self.G = nx.from_pandas_edgelist(self.edge_df)\n",
        "        self.kwargs = kwargs\n",
        "        self.node_list = list(self.G.nodes)\n",
        "        self.comm_dict, self.comms = louvain_communities(self.G, True)\n",
        "\n",
        "    # ---------------------------------------------\n",
        "    # SIMULATION FUNCTIONS\n",
        "    # ---------------------------------------------\n",
        "\n",
        "    def prep_data(self):\n",
        "        \"\"\"\n",
        "        add negative examples and compute features on the current data frame of edges, using stored community labels for community features. \n",
        "        \"\"\"\n",
        "        self.train_df = add_negative_examples(self.edge_df)\n",
        "        self.train_df = compute_features(self.train_df, comm_dict = self.comm_dict, **self.kwargs)\n",
        "\n",
        "        # store the names of the feature columns for later\n",
        "        self.feature_cols = [col for col in self.train_df.columns if col not in [\"source\", \"target\", \"link\"]]\n",
        "        \n",
        "    def train_model(self):\n",
        "        \"\"\"\n",
        "        Train a logistic classifier on the current data after features have been added. \n",
        "        \"\"\"\n",
        "        X = self.train_df[self.feature_cols]\n",
        "        y = self.train_df[\"link\"]\n",
        "\n",
        "        self.model = LogisticRegression(solver = \"liblinear\")\n",
        "        self.model.fit(X, y)\n",
        "        \n",
        "    def get_predicted_edges(self, m_replace):\n",
        "        \"\"\"\n",
        "        Return a data frame containing the m_replace most likely new edges that are not already present in the graph. \n",
        "        \"\"\"\n",
        "        \n",
        "        # data frame of candidate pairs\n",
        "        pairs = pd.DataFrame(product(self.node_list, self.node_list), columns = [\"source\", \"target\"])\n",
        "        pairs = pairs[pairs[\"source\"] < pairs[\"target\"]]\n",
        "\n",
        "        # add features to the candidate pairs\n",
        "        pairs = compute_features(pairs, comm_dict = self.comm_dict, G = self.G, **self.kwargs)\n",
        "\n",
        "        # add the model predictions\n",
        "        pairs[\"edge_score\"] = self.model.predict_proba(pairs[self.feature_cols])[:,1]\n",
        "\n",
        "        # remove pairs that already present in the graph\n",
        "        pairs = pd.merge(pairs, self.edge_df, on = [\"source\", \"target\"], indicator = True, how = \"outer\")\n",
        "        pairs = pairs[pairs._merge == \"left_only\"]\n",
        "\n",
        "        # get the m_replace pairs with the highest predicted probability\n",
        "        # and return them\n",
        "        pairs = pairs.sort_values(\"edge_score\", ascending = False).head(m_replace)\n",
        "        return pairs[[\"source\", \"target\"]]\n",
        "\n",
        "    def update_edges(self, m_replace):\n",
        "        \"\"\"\n",
        "        removes m_replace edges from the current graph, and replaces them with m_replace predicted edges from get_predicted_edges. \n",
        "        \"\"\"\n",
        "\n",
        "        # remove m_replace random edges\n",
        "        self.edge_df = self.edge_df.sample(len(self.edge_df) - m_replace)\n",
        "\n",
        "        # add m_replace recommended edges \n",
        "        new_edges = self.get_predicted_edges(m_replace)\n",
        "        self.edge_df = pd.concat([self.edge_df, new_edges])\n",
        "\n",
        "\n",
        "    def step(self, m_replace = 1, train = True):\n",
        "        \"\"\"\n",
        "        main simulation function. In each step, we do the data preparation steps, train the model, and update the graph. \n",
        "        \"\"\"\n",
        "        self.prep_data()\n",
        "        self.train_model()\n",
        "        self.update_edges(m_replace)\n",
        "        self.G = nx.from_pandas_edgelist(self.edge_df)\n",
        "        self.G.add_nodes_from(self.node_list)\n",
        "\n",
        "    # ---------------------------------------------\n",
        "    # MEASUREMENT FUNCTIONS\n",
        "    # ---------------------------------------------\n",
        "\n",
        "    def degree_gini(self):\n",
        "        \"\"\"\n",
        "        The Gini coefficient is a measure of inequality. We are going to use it to measure the extent of inequality in the degree distribution. Higher Gini = more inequality in the degree distribution. \n",
        "\n",
        "        code from https://stackoverflow.com/questions/39512260/calculating-gini-coefficient-in-python-numpy\n",
        "        \"\"\"\n",
        "        \n",
        "        degs = np.array([self.G.degree[i] for i in self.G.nodes])\n",
        "        mad = np.abs(np.subtract.outer(degs, degs)).mean()\n",
        "        rmad = mad/np.mean(degs)\n",
        "        g = 0.5 * rmad\n",
        "        return g\n",
        "\n",
        "    def modularity(self):\n",
        "        \"\"\"\n",
        "        modularity of the stored partition\n",
        "        \"\"\"\n",
        "        return nx.algorithms.community.modularity(self.G, self.comms)"
      ],
      "id": "a5da54a7",
      "execution_count": null,
      "outputs": []
    },
    {
      "cell_type": "markdown",
      "metadata": {},
      "source": [
        "::: {.column-margin}\n",
        "\n",
        "This hidden code cell defines a class that simulates the impact of a link prediction algorithm on a social network. The class has methods for training a link prediction model, updating the network, and measuring the modularity and degree Gini coefficient of the network.\n",
        "\n",
        ":::\n",
        "\n",
        "Let's now instantiate the simulator, using the entire `contact` network. \n"
      ],
      "id": "4cd6f973"
    },
    {
      "cell_type": "code",
      "metadata": {},
      "source": [
        "edges = contact.groupby([\"source\", \"target\"]).count().reset_index()\n",
        "LPS = LinkPredictionSimulator(edges)"
      ],
      "id": "d1724766",
      "execution_count": null,
      "outputs": []
    },
    {
      "cell_type": "markdown",
      "metadata": {},
      "source": [
        "Now we're going to conduct our simulation. Along the way, we've set up code so that we can see the graph (and its community partition) before and after the simulation. While we do the simulation, we'll collect the modularity and degree Gini coefficient, which measures how unequal the degrees in the graph are. \n"
      ],
      "id": "af8868ab"
    },
    {
      "cell_type": "code",
      "metadata": {},
      "source": [
        "#| fig-cap: Before-and-after visualizations of the high school contact network after 50 iterations of the link prediction recommender system simulation. \n",
        "#| cap-location: margin\n",
        "\n",
        "# set up the plot\n",
        "fig, axarr = plt.subplots(1, 2, figsize = (9, 5))\n",
        "pos = nx.fruchterman_reingold_layout(LPS.G)\n",
        "\n",
        "# initial state of the graph\n",
        "louvain_plot(LPS.G, clusters = LPS.comm_dict, ax = axarr[0], pos = pos)\n",
        "\n",
        "# initialize tracking the modularity and gini coefficients\n",
        "Q    = []\n",
        "gini = []\n",
        "\n",
        "# main loop\n",
        "LPS.step(0, train = True)\n",
        "for i in range(50):\n",
        "    LPS.step(100, train = True)\n",
        "    Q.append(LPS.modularity())\n",
        "    gini.append(LPS.degree_gini())\n",
        "\n",
        "# visualize final state of the graph\n",
        "louvain_plot(LPS.G, clusters = LPS.comm_dict, ax = axarr[1], pos = pos)"
      ],
      "id": "ce3b1d21",
      "execution_count": null,
      "outputs": []
    },
    {
      "cell_type": "markdown",
      "metadata": {},
      "source": [
        "Here's what happened to the modularity and the degree Gini inequality as the simulation progressed: \n"
      ],
      "id": "a436160f"
    },
    {
      "cell_type": "code",
      "metadata": {},
      "source": [
        "#| fig-cap: Modularity and degree Gini coefficient of the high school contact network across iterations of the link prediction recommender system simulation.\n",
        "#| cap-location: margin\n",
        "\n",
        "fig, ax = plt.subplots(1, 1)\n",
        "\n",
        "ax.plot(Q, label = \"Modularity of original partition\", color = plt.cm.Set3(4))\n",
        "ax.plot(gini, label = \"Gini inequality in degrees\", color = plt.cm.Set3(5))\n",
        "ax.legend()\n",
        "\n",
        "ax.set(xlabel = \"Timestep\", ylabel = \"Value\")"
      ],
      "id": "3ce92939",
      "execution_count": null,
      "outputs": []
    },
    {
      "cell_type": "markdown",
      "metadata": {},
      "source": [
        "***In this specific, simple model***, algorithmic recommendations caused the network to change considerably in its structure. \n",
        "\n",
        "- There are more closed-off, insular communities as indicated by the higher modularity score. \n",
        "- There is increased inequality of influence, at least as measured by the node degree. \n",
        "\n",
        "It's important to note that these results have multiple interpretations. Tighter communities could just mean that the platform is better at helping people connect to their interests, and in some cases this might be harmless. On the other hand, such tight communities also smack of echo chambers; in cases related to opinion exchange or debate, it might be difficult for people to actually encounter contrary opinions in this setting. Equality of influence might seem like a good thing, but could also indicate that people with extreme or repugnant viewpoints have become mainstreamed. So, while it's clear that the algorithm has significantly changed the overall structure of the social network, it's important to think critically in context in order to understand whether that's truly a bad thing or not. \n",
        "\n",
        "Overall, our findings suggest that the influence of automated recommendation algorithms have the possibility to change the overall shape of social networks in ways that may be harmful or helpful. For some perspectives on how algorithmic influence shapes collective behavior, and what this might imply, see @bak2021stewardship.  \n",
        "\n",
        "## References"
      ],
      "id": "17d64a2c"
    }
  ],
  "metadata": {
    "kernelspec": {
      "name": "python2",
      "language": "python",
      "display_name": "Python 2",
      "path": "/Users/philchodrow/Library/Jupyter/kernels/python2"
    }
  },
  "nbformat": 4,
  "nbformat_minor": 5
}