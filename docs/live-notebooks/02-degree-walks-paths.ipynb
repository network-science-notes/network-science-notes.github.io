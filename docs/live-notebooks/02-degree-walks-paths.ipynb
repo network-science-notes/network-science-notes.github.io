{
 "cells": [
  {
   "cell_type": "markdown",
   "execution_count": null,
   "metadata": {},
   "outputs": [],
   "source": [
    "\n",
    "\n",
    "# Degree, Walks, and Paths\n",
    "\n",
    "\n",
    "### Cyclic and acyclic graphs\n",
    "\n",
    "### Trees\n",
    "\n",
    "::: {.callout-note icon=false appearance=\"minimal\"}\n",
    "::: {#def-tree}\n",
    "\n",
    "A **tree** is a connected, undirected network that contains no loops. [By \"connected\", we mean every node is reachable from every other node by traversing a sequence of edges.]{.aside}\n",
    "\n",
    ":::\n",
    ":::\n",
    "\n",
    "## References\n"
   ]
  }
 ],
 "metadata": {
  "kernelspec": {
   "display_name": "Python 3 (ipykernel)",
   "language": "python",
   "name": "python3",
   "path": "/Users/hzinnbrooks/Documents/GitHub/network-science-notes.github.io/env/share/jupyter/kernels/python3"
  }
 },
 "nbformat": 4,
 "nbformat_minor": 4
}
