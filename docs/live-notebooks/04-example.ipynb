{
 "cells": [
  {
   "cell_type": "markdown",
   "execution_count": null,
   "metadata": {},
   "outputs": [],
   "source": [
    "\n",
    "\n",
    "# Some Stuff About Networks\n",
    "\n",
    "::: {.callout-note icon=false appearance=\"minimal\"}\n",
    "::: {#def-name}\n",
    "\n",
    "Definition\n",
    "\n",
    ":::\n",
    ":::\n",
    "\n",
    "## References\n"
   ]
  }
 ],
 "metadata": {
  "kernelspec": {
   "display_name": "Python 3 (ipykernel)",
   "language": "python",
   "name": "python3",
   "path": "/Users/philchodrow/opt/anaconda3/envs/ml-0451/share/jupyter/kernels/python3"
  }
 },
 "nbformat": 4,
 "nbformat_minor": 4
}
