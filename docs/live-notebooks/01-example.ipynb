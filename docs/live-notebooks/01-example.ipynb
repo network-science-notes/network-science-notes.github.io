{
 "cells": [
  {
   "cell_type": "markdown",
   "execution_count": null,
   "metadata": {},
   "outputs": [],
   "source": [
    "\n",
    "\n",
    "# Some Stuff About Networks\n",
    "\n",
    "#### Size of the Giant Component\n",
    "\n",
    "Perhaps surprisingly, while it's difficult to prove that there is a giant component, it's not hard at all to estimate its size. \n",
    "[This argument is reproduced from @newman2018networks, pages 349-350]{.aside}\n",
    "\n",
    "Let $S$ be the size of the giant component in an Erdős–Rényi random graph, assuming there is one. Then, $s = S/n$ is the probability that a randomly selected node is in the giant component. Let $u = 1 - s$ be the probability that a given node is *not* in the giant component. \n",
    "\n",
    "Let's take a random node $i$, and ask it the probability that it's in the giant component. Well, one answer to that question is just \"$u$.\" On the other hand, we can *also* answer that question by looking at $i$'s neighbors. If $i$ is not in the giant component, then it can't be connected to any node that is in the giant component. So, for each other node $j\\neq i$, it must be the case that either: \n",
    "\n",
    "1. $i$ is not connected to $j$. This happens with probability $1-p$. \n",
    "2. $i$ is connected to $j$, but $j$ is not in the giant component either. $i$ is connected to $j$ with probability $p$, and $j$ is not in the giant component with probability $u$. \n",
    "\n",
    "There are $n-1$ nodes other than $i$, and so the probability that $i$ is not connected to any other node in the giant component is $(1 - p + pu)^{n-1}$. We therefore have the equation \n",
    "\n",
    "$$\n",
    "u = (1 - p + pu)^{n-1}\\;.\n",
    "$$\n",
    "\n",
    "Let's take the righthand side and use $p = c/(n-1)$: \n",
    "$$\n",
    "\\begin{aligned}\n",
    "    u &= (1 - p(1-u))^{n-1} \\\\ \n",
    "      &= \\left(1 - \\frac{c(1-u)}{n-1}\\right)^{n-1}\\;.\n",
    "\\end{aligned}\n",
    "$$\n",
    "This is a good time to go back to precalculus and remember the limit definition of the function $e^x$:\n",
    "$$\n",
    "e^x = \\lim_{n \\rightarrow \\infty}\\left(1 + \\frac{x}{n}\\right)^{n}\\;. \n",
    "$$\n",
    "Since we are allowing $n$ to grow large in our application, we approximate \n",
    "\n",
    "$$\n",
    "u \\approx e^{-c(1-u)}\\;. \n",
    "$$\n",
    "So, now we have a description of the fraction of nodes that *aren't* in the giant component. We can get a description of how many nodes *are* in the giant component by substituting $s = 1-u$, after which we get the equation we're really after: \n",
    "$$\n",
    "s = 1- e^{-cs}\n",
    "$${#eq-giant-component-size}\n",
    "\n",
    "This equation doesn't have a closed-form solution for $s$, but we can still plot it and compare the result to simulations (@fig-giant-component). Not bad! "
   ]
  },
  {
   "cell_type": "code",
   "execution_count": null,
   "metadata": {
    "out.width": "80%"
   },
   "outputs": [],
   "source": [
    "\n",
    "import numpy as np\n",
    "from matplotlib import pyplot as plt\n",
    "import networkx as nx\n",
    "plt.style.use('seaborn-v0_8-whitegrid')\n",
    "\n",
    "\n",
    "\n",
    "# experiment: compute the size of the largest connected \n",
    "# component as a function of graph size for a range of mean degrees. \n",
    "# This experiment is left as a coding exercise in the live notes\n",
    "\n",
    "\n"
   ]
  },
  {
   "cell_type": "markdown",
   "execution_count": null,
   "metadata": {},
   "outputs": [],
   "source": [
    "## References\n"
   ]
  }
 ],
 "metadata": {
  "kernelspec": {
   "display_name": "Python 3 (ipykernel)",
   "language": "python",
   "name": "python3",
   "path": "/Users/hzinnbrooks/Documents/GitHub/network-science-notes.github.io/env/share/jupyter/kernels/python3"
  }
 },
 "nbformat": 4,
 "nbformat_minor": 4
}
