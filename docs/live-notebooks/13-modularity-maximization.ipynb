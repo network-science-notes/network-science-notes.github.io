{
 "cells": [
  {
   "cell_type": "markdown",
   "execution_count": null,
   "metadata": {},
   "outputs": [],
   "source": [
    "\n",
    "\n",
    "# Community Detection and Modularity Maximization\n",
    "\n",
    "In a [previous lecture](06-modularity.qmd), we introduced the idea of *assortativity* in networks. Roughly, a network is assortative with respect to some attribute if nodes which share that attribute are more likely to be connected to each other than to nodes without that attribute.\n",
    "\n",
    "Our data for this set of lecture notes is a data set of social interactions between students at a French high school in 2012. The data was collected by @fournet2014contact as part of the [SocioPatterns project](http://www.sociopatterns.org/). Students were given wearable sensors which would ping when two students were in close proximity and facing each other. Each of these pings is an edge in the raw data, although in our processing for this lecture we simplify the data set down so that there is an edge between each pair of students who interacted at all during the data collection period. \n",
    "\n",
    "In this high school, students were tracked into one of five classes: \n",
    "\n",
    "1. MP\\*1 and MP\\*2 were two classes focusing on mathematics and physics. \n",
    "2. PC and PC\\* were two classes focusing on physics and chemistry. \n",
    "3. PSI\\* was one class focusing on engineering. \n",
    "\n",
    "We might reasonably expect that students in the same class would interact more with each other than with students in other classes. Let's acquire the data and visualize the network to begin to develop a feel for this idea. "
   ]
  },
  {
   "cell_type": "code",
   "execution_count": null,
   "metadata": {},
   "outputs": [],
   "source": [
    "\n",
    "import pandas as pd\n",
    "import numpy as np\n",
    "import networkx as nx\n",
    "from matplotlib import pyplot as plt\n",
    "from matplotlib.lines import Line2D # for legend later\n",
    "plt.style.use('seaborn-v0_8-whitegrid')\n",
    "\n",
    "def unweight(G):\n",
    "    for source, target in G.edges():\n",
    "        G[source][target]['weight'] = 1\n",
    "    return G\n",
    "\n",
    "def acquire_contact_data():\n",
    "    url = \"https://raw.githubusercontent.com/network-science-notes/network-science-notes.github.io/refs/heads/main/data/contact-high-school.csv\"\n",
    "\n",
    "    contact = pd.read_csv(url, sep = \"\\t\", names = [\"time\", \"source\", \"target\", \"class_s\", \"class_t\"])[[\"source\", \"target\", \"class_s\", \"class_t\"]]\n",
    "\n",
    "    G = nx.from_pandas_edgelist(contact)\n",
    "\n",
    "    class_labels = contact[[\"source\", \"class_s\"]].drop_duplicates(subset=['source'])\n",
    "    class_labels = dict(zip(class_labels[\"source\"], class_labels[\"class_s\"]))\n",
    "    more_class_labels = contact[[\"target\", \"class_t\"]].drop_duplicates(subset=['target'])\n",
    "    more_class_labels = dict(zip(more_class_labels[\"target\"], more_class_labels[\"class_t\"]))\n",
    "\n",
    "    class_labels.update(more_class_labels)\n",
    "\n",
    "    classes = [\"MP*1\", \"MP*2\", \"PC\", \"PC*\", \"PSI*\"]\n",
    "\n",
    "    class_to_int = {class_label : i for i, class_label in enumerate(classes)}\n",
    "\n",
    "    class_labels = {node : class_to_int[label] for node, label in class_labels.items()}\n",
    "\n",
    "    nx.set_node_attributes(G, class_labels, \"class\")\n",
    "\n",
    "    G = nx.convert_node_labels_to_integers(G)\n",
    "    G = unweight(G)\n",
    "    return G\n",
    "\n",
    "def draw_graph(G, clusters = None, ax = None, legend = True):\n",
    "    \n",
    "\n",
    "    node_kwargs = {\"node_size\" : 50, \"edgecolors\" : 'black'}\n",
    "    if clusters is not None: \n",
    "        num_clusters = np.unique(list(clusters.values())).shape[0]\n",
    "        cluster_to_color = [plt.cm.Set3(i) for i in range(num_clusters)]\n",
    "        node_kwargs[\"node_color\"] = [cluster_to_color[clusters[i]] for i in G.nodes()]\n",
    "    edge_kwargs = {\"edge_color\" : \"gray\", \"alpha\" : 0.3}\n",
    "    pos = nx.spring_layout(G)\n",
    "    nx.draw_networkx_edges(G, pos, ax = ax, **edge_kwargs)\n",
    "    nx.draw_networkx_nodes(G, pos, ax = ax, **node_kwargs)\n",
    "    off = ax.axis(\"off\")\n",
    "\n",
    "    if (clusters is not None) and legend: \n",
    "        classes = [\"MP*1\", \"MP*2\", \"PC\", \"PC*\", \"PSI*\"]\n",
    "        legend_elements = [Line2D([0], [0], marker='o', color=\"black\", label=classes[i], lw=0, markerfacecolor=plt.cm.Set3(i), markersize=10) for i in range(5)]\n",
    "\n",
    "        ax.legend(handles=legend_elements, loc='upper right')\n",
    "\n",
    "def labels_to_array(z, G):\n",
    "    if isinstance(z, dict):\n",
    "        z = np.array([z[node] for node in G.nodes])\n",
    "    elif isinstance(z, list):\n",
    "        z = np.array(z)\n",
    "    return z"
   ]
  },
  {
   "cell_type": "markdown",
   "execution_count": null,
   "metadata": {},
   "outputs": [],
   "source": [
    "::: {.column-margin}\n",
    "\n",
    "This hidden code cell implements a number of utilities for processing and node labels associated with them. It also has a lot of plotting implementations. \n",
    "\n",
    ":::"
   ]
  },
  {
   "cell_type": "code",
   "execution_count": null,
   "metadata": {},
   "outputs": [],
   "source": [
    "G = acquire_contact_data()\n",
    "clusters = nx.get_node_attributes(G, \"class\")\n",
    "fig, ax = plt.subplots(1, 1)\n",
    "draw_graph(G, clusters = clusters, ax = ax)"
   ]
  },
  {
   "cell_type": "markdown",
   "execution_count": null,
   "metadata": {},
   "outputs": [],
   "source": [
    "There are 5 classes in the network: MP\\*1, MP\\*2, PC, PC\\*, and PSI\\*. Visual inspection of the plot suggests that the network may be assortative with respect to class: there are many edges between nodes of the same class, and fewer edges between nodes of different classes. There is even some *nested* assortative structure. The MP\\*1 and MP\\*2 classes seem to form a distinct subgraph. Students in MP\\*1 are more likely interact amongst themselves, but if they do interact with anyone outside their own class, it is likely to be with students in MP\\*2. \n",
    "\n",
    "## Recall: Measuring Assortativity with Modularity\n",
    "\n",
    "Recall that we can quantify the extent to which a network is assortative with respect to some attribute by calculating the *modularity* of the network with respect to that attribute. Let $\\mathcal{Z}$ be a finite set of possible node labels, and let $\\mathbf{z} \\in \\mathcal{Z}^n$ be a vector whose $i$th entry gives the label of the $i$th node. Then, the modularity functional of $G$ with respect to $\\mathbf{z}$ as defined by @newman2004finding is given by the formula \n",
    "\n",
    "$$\n",
    "\\begin{aligned}\n",
    "    Q(G, \\mathbf{z}) = \\frac{1}{2m} \\sum_{\\substack{i,j \\in N \\\\ i \\neq j}} \\left[ a_{ij} - \\frac{k_i k_j}{2m} \\right] \\delta_{z_i z_j} \\,,\n",
    "\\end{aligned}\n",
    "$$\n",
    "\n",
    "This formula can be motivated in several ways. \n",
    "\n",
    "1. **Comparison to random graphs**: $Q$ is a comparison of $a_{ij}$ to the expected number of edges between nodes $i$ and $j$ if edges were placed at random while approximately preserving the degree sequence (This point is surprisingly subtle; see @chodrow2020moments for a discussion of some of the difficulties.). \n",
    "2. **Dynamical stability**: $Q$ is a measure of the tendency of random walks on the graph $G$ to stay within the same community; see @delvenne2010stability. \n",
    "3. **Statistical inference**: $Q$ is a term in the objective function for a statistical inference task in which we try to infer the labels $\\mathbf{z}$ from the graph structure; see @newman2016equivalence.\n",
    "\n",
    "\n",
    "We often informally say that the network is *assortative* or *has modular structure* when $Q$ is substantially larger than 0. [The question of what counts as \"substantially larger\" can be tricky; for example; see discussion in @zhang2014scalable for cases in which Erdős–Rényi random graphs can have high modularity with respect to a carefully-chosen partition.]{.aside} \n",
    "\n",
    "Networkx implements a function to compute the modularity, but it's not difficult to implement our own either. We'll structure our function to accept a vector of characters giving the class labels.  "
   ]
  },
  {
   "cell_type": "code",
   "execution_count": null,
   "metadata": {},
   "outputs": [],
   "source": [
    "def modularity(G, z):\n",
    "\n",
    "    # converts z from a dict to an array if it isn't one already\n",
    "    z = labels_to_array(z, G)\n",
    "\n",
    "    # form the matrices we need\n",
    "    A = nx.to_numpy_array(G)\n",
    "    k = A.sum(axis = 1)\n",
    "    m = G.number_of_edges()\n",
    "\n",
    "    # computes a matrix whose ith entry is delta_{z_i, z_j}\n",
    "    delta = z[:, None] == z[None, :] \n",
    "\n",
    "    return 1/(2*m)*((A - np.outer(k, k) / (2 * m))*delta).sum()"
   ]
  },
  {
   "cell_type": "markdown",
   "execution_count": null,
   "metadata": {},
   "outputs": [],
   "source": [
    "Now let's try calling our function to find the modularity of the graph and its labels: "
   ]
  },
  {
   "cell_type": "code",
   "execution_count": null,
   "metadata": {},
   "outputs": [],
   "source": [
    "modularity(G, clusters)"
   ]
  },
  {
   "cell_type": "markdown",
   "execution_count": null,
   "metadata": {},
   "outputs": [],
   "source": [
    "Let's do a quick check against the built-in implementation of modularity in Networkx. This implementation works just a bit differently: we need to pass a list of sets in which each set represents a community. "
   ]
  },
  {
   "cell_type": "code",
   "execution_count": null,
   "metadata": {},
   "outputs": [],
   "source": [
    "communities = [{node for node in G.nodes() if clusters[node] == i} for i in range(5)]\n",
    "nx.community.modularity(G, communities)"
   ]
  },
  {
   "cell_type": "markdown",
   "execution_count": null,
   "metadata": {},
   "outputs": [],
   "source": [
    "Our answers agree! \n",
    "\n",
    "## The Community Detection Problem\n",
    "\n",
    "In the community detection problem, we consider a graph $G$ which we *suspect* to have some interesting modular structure, but we do not have access to the label vector $\\mathbf{z}$. Instead, we attempt to *find* a good label vector based on the graph structure itself. [This kind of task is also often called \"graph clustering\" or \"graph partitioning.\" The idea that networks have community structure and that algorithms can find this structure was popularized by @girvan2002community.]{.aside} \n",
    "\n",
    "::: {.column-margin}\n",
    "\n",
    "So, in the community detection problem, we have access to an *unlabeled graph* like this one. "
   ]
  },
  {
   "cell_type": "code",
   "execution_count": null,
   "metadata": {},
   "outputs": [],
   "source": [
    "fig, ax = plt.subplots(1, 1)\n",
    "draw_graph(G, ax = ax)"
   ]
  },
  {
   "cell_type": "markdown",
   "execution_count": null,
   "metadata": {},
   "outputs": [],
   "source": [
    "We'd like to find a \"good\" partition of the nodes. \n",
    "\n",
    ":::\n",
    "\n",
    "### Community Detection as Optimization\n",
    "\n",
    "Many algorithms for community detection are based on the idea of optimization. The goal is to formulate a function $R(G, \\mathbf{z})$ with two main properties: \n",
    "\n",
    "1. $R(G, \\mathbf{z})$ is large when $\\mathbf{z}$ is a \"good\" partition of the graph. \n",
    "2. It is feasible to find a partition of $\\mathbf{z}$ which gives a large value of $R(G, \\mathbf{z})$ in practical computational time. \n",
    "\n",
    "Roughly, criterion 1 says that we are \"optimizing the right thing,\" while criterion 2 says that \"optimizing the right thing\" is in fact computationally feasible. Due to its many useful interpretations, the modularity $Q$ has been a very popular choice of objective functions for community detection. In [later notes](19-spectral-clustering.qmd), we'll explore an alternative objective function.  \n",
    "\n",
    "## A Community Detection Algorithm: Greedy Agglomerative Clustering\n",
    "\n",
    "Unfortunately, exactly maximizing the modularity is NP-hard [@brandes2007modularity], and so we need to consider tractable heuristic algorithms that we hope may lead us to solutions which are close to optimal. \n",
    "\n",
    "One simple algorithm for heuristic modularity maximization is the *greedy agglomerative clustering* algorithm. The idea is to start with each node in its own community, and then iteratively swap the labels of nodes until no improvement in the modularity can be obtained. An important computational feature of this algorithm is that we don't need to always recalculate the modularity from scratch. \n",
    "\n",
    "Instead, we can simply *update* the modularity with the change that results from swapping a node $h$ from community $x$ to community $y$. Let $\\mathbf{z}$ be the label vector before the swap and let $\\mathbf{z}'$ be the label vector after the swap. Importantly, this quantity can be evaluated much more efficiently than the complete modularity. \n",
    "\n",
    "::: {.callout-important}\n",
    "\n",
    "## Exercise\n",
    "\n",
    "Prove that $Q(G, \\mathbf{z}') - Q(G, \\mathbf{z}) = \\sum_{j \\neq h} b_{hj}(x,y)$ for some numbers $b_{hj}(x,y)$ which depend on the node $j$, its original community $x$, and its proposed new community $y$, and which can be computed in $O(1)$ time.\n",
    "\n",
    ":::\n",
    "\n",
    "::: {.solution .hide}\n",
    "\n",
    "We compute directly: \n",
    "$$\n",
    "\\begin{aligned}\n",
    "    Q(G, \\mathbf{z}') - Q(G, \\mathbf{z}) &=  \\frac{1}{2m}\\sum_{\\substack{i,j \\in N \\\\ i \\neq j}} \\left[ a_{ij} - \\frac{k_ik_j}{2m} \\right] \\delta_{z_i', z_j'} - \\frac{1}{2m}\\sum_{\\substack{i,j \\in N \\\\ i \\neq j}} \\left[ a_{ij} - \\frac{k_ik_j}{2m} \\right] \\delta_{z_i, z_j} \\\\ \n",
    "    &= \\frac{1}{2m}\\sum_{\\substack{i,j \\in N \\\\ i \\neq j}} \\left[ a_{ij} - \\frac{k_ik_j}{2m} \\right] \\left(\\delta_{z_i', z_j'} - \\delta_{z_i, z_j}\\right)\\;.\n",
    "\\end{aligned}\n",
    "$$\n",
    "\n",
    "We only have $\\delta_{z_i', z_j'} - \\delta_{z_i, z_j} \\neq 0$ when either $i$ or $j$ is equal to $h$. If $i = h$, then $z_i = x$, $z_i' = y$, and $z_j' = z_j$ for all $j \\neq h$. So, \n",
    "\n",
    "$$\n",
    "\\begin{aligned}\n",
    "    Q(G, \\mathbf{z}') - Q(G, \\mathbf{z}) &= \\frac{1}{2m}\\left(\\sum_{j\\neq h} \\left[ a_{hj} - \\frac{k_hk_j}{2m} \\right] \\left(\\delta_{y, z_j} - \\delta_{x, z_j}\\right) + \\sum_{i\\neq h} \\left[ a_{ih} - \\frac{k_ik_h}{2m} \\right] \\left(\\delta_{z_i, y} - \\delta_{z_i, x}\\right) \\right) \\\\\n",
    "    &= \\frac{1}{m}\\left(\\sum_{j\\neq h} \\left[ a_{hj} - \\frac{k_hk_j}{2m} \\right] \\left(\\delta_{y, z_j} - \\delta_{x, z_j}\\right)  \\right)\\;,\n",
    "\\end{aligned}\n",
    "$$\n",
    "\n",
    "where in the second line we have used the fact that the two sums appearing are just re-indexed copies of each other. \n",
    "\n",
    ":::\n",
    "\n",
    "Our implementation of the main loop relies on the following function which calculates the change in modularity from swapping a node $h$ from community $x$ to community $y$. \n"
   ]
  },
  {
   "cell_type": "code",
   "execution_count": null,
   "metadata": {},
   "outputs": [],
   "source": [
    "def modularity_change(A, k, m, i, x, y, labels):    \n",
    "    \"\"\"\n",
    "    compute the change in modularity associated with moving the current label of node i (assumed to be labels[i]) from x to y\n",
    "    \"\"\"\n"
   ]
  },
  {
   "cell_type": "markdown",
   "execution_count": null,
   "metadata": {},
   "outputs": [],
   "source": [
    "Now we can use this function in a loop to iteratively swap node labels until no improvement can be made (or until the step limit is exceeded)."
   ]
  },
  {
   "cell_type": "code",
   "execution_count": null,
   "metadata": {},
   "outputs": [],
   "source": [
    "def greedy_clustering(G, num_steps = int(1e4)):\n",
    "    \"\"\"\n",
    "    Return a label vector of integers from greedy agglomerative clustering\n",
    "    Also return a list showing the progress of the modularity at each step\n",
    "    \"\"\"\n",
    "\n",
    "    # initialize every node in its own cluster\n",
    "    labels = np.arange(G.number_of_nodes()) \n",
    "\n",
    "    # compute the modularity initially -- we'll update it as we go\n",
    "    progress = [modularity(G, labels)]\n",
    "\n",
    "    # matrices and vectors we'll need\n",
    "    m = G.number_of_edges()\n",
    "    A = nx.to_numpy_array(G)\n",
    "    k = A.sum(axis = 1)\n",
    "    \n",
    "    # main loop\n",
    "    for _ in range(num_steps):\n",
    "\n",
    "        # pick two nodes at random and retrieve their labels\n",
    "        i, j = np.random.choice(G.number_of_nodes(), 2, replace = False)\n",
    "\n",
    "        # prospective swap is that i will change its label from x to y\n",
    "        x = labels[i]\n",
    "        y = labels[j]\n",
    "\n",
    "        if x == y: \n",
    "            continue\n",
    "\n",
    "        else: \n",
    "            # compute the change in modularity of the prospective swap\n",
    "            change = modularity_change(A, k, m, i, x, y, labels)\n",
    "\n",
    "            # if positive, update the labels and store the new modularity for visualization later\n",
    "            if change > 0: \n",
    "                labels[i] = y\n",
    "                progress.append(progress[-1] + change)\n",
    "        \n",
    "    # postprocessing: we need to convert the labels into a dict for visualization etc. \n",
    "    distinct_labels = np.unique(labels)\n",
    "    label_map = {int(distinct_label) : i for i, distinct_label in enumerate(distinct_labels)}\n",
    "\n",
    "    greedy_clusters = {i : label_map[label] for i, label in enumerate(labels)}\n",
    "\n",
    "    return greedy_clusters, np.array(progress)"
   ]
  },
  {
   "cell_type": "markdown",
   "execution_count": null,
   "metadata": {},
   "outputs": [],
   "source": [
    "Let's run our algorithm..."
   ]
  },
  {
   "cell_type": "code",
   "execution_count": null,
   "metadata": {},
   "outputs": [],
   "source": [
    "greedy_clusters, progress = greedy_clustering(G, num_steps = int(1e5))"
   ]
  },
  {
   "cell_type": "markdown",
   "execution_count": null,
   "metadata": {},
   "outputs": [],
   "source": [
    "...and visualize how we did. "
   ]
  },
  {
   "cell_type": "code",
   "execution_count": null,
   "metadata": {},
   "outputs": [],
   "source": [
    "fig, ax = plt.subplots(1, 2, figsize = (7, 3.5))\n",
    "\n",
    "ax[0].plot(progress)\n",
    "ax[0].set(xlabel = \"Number of swaps performed\", ylabel = \"Modularity\", title = \"Progress over swaps\")\n",
    "\n",
    "ax[1].set(title = f\"Modularity of greedy partition = {modularity(G, greedy_clusters):.3f}\")\n",
    "ax[1].axis(\"off\")\n",
    "draw_graph(G, clusters = greedy_clusters, ax = ax[1], legend = False)"
   ]
  },
  {
   "cell_type": "markdown",
   "execution_count": null,
   "metadata": {},
   "outputs": [],
   "source": [
    "This algorithm required several hundred executed swaps (and thousands of non-executed swaps) in order to achieve the visualized clustering. The clusters shown actually achieve a modularity that is comparable to the original clustering.\n",
    "\n",
    "\n",
    "\n",
    "## Validation of Community Detection Algorithms\n",
    "\n",
    "How do we tell whether a community detection algorithm is \"good\"? One standard way is to compare the clusters found by that algorithm to the true clusters, when such true clusters are available. [Though see @peel2017ground for a discussion of the limitations of this approach.]{.aside} Generally, we'd like to use a function $f(\\mathbf{z}, \\mathbf{z}')$ which measures the similarity between the two label vectors $\\mathbf{z}$ and $\\mathbf{z}'$; we'd have $f(\\mathbf{z}, \\mathbf{z}') = 1$ when the two vectors are identical (up to permutations of labels) and $f(\\mathbf{z}, \\mathbf{z}') = 0$ when the two vectors are completely uncorrelated.  \n",
    "\n",
    "There are several metrics which are appropriate to this task. We'll illustrate one standard such vector, the *normalized mutual information* or NMI. The NMI has formula \n",
    "\n",
    "$$\n",
    "\\begin{aligned}\n",
    "    \\text{NMI}(\\mathbf{z}, \\mathbf{z}') = 2 \\frac{I(\\mathbf{z}, \\mathbf{z}')}{H(\\mathbf{z}) + H(\\mathbf{z}')}\\;,\n",
    "\\end{aligned}\n",
    "$$\n",
    "\n",
    "where $I(\\mathbf{z}, \\mathbf{z}')$ is the mutual information between the two label vectors and $H(\\mathbf{z})$ is the entropy of the label vector.\n",
    "\n",
    "To define these two quantities, let $p(z,z')$ be proportion of the time that a randomly picked node has label $z$ in $\\mathbf{z}$ and $z'$ in $\\mathbf{z'}$: \n",
    "$$\n",
    "\\begin{aligned}\n",
    "    p(z,z') = \\frac{1}{n} \\sum_{i} \\delta_{z, z_i}\\delta_{z', z_i'}\\;.\n",
    "\\end{aligned}\n",
    "$$\n",
    "\n",
    "Also define $p(z) = \\sum_{z' \\in \\mathcal{Z}} p(z,z')$ and $p(z') = \\sum_{z \\in \\mathcal{Z}} p(z,z')$. Then, \n",
    "\n",
    "$$\n",
    "\\begin{aligned}\n",
    "    H(\\mathbf{z}) &= - \\sum_{z \\in \\mathcal{Z}} p(z) \\log p(z) \\\\ \n",
    "    I(\\mathbf{z}, \\mathbf{z}') &= \\sum_{z \\in \\mathcal{Z}} \\sum_{z' \\in \\mathcal{Z}} p(z,z') \\log \\frac{p(z,z')}{p(z)p(z')} \\;.\n",
    "\\end{aligned}\n",
    "$$\n",
    "\n",
    "Roughly, $H(\\mathbf{z})$ measures the \"diversity\" of labels represented in $\\mathbf{z}$, while $I(\\mathbf{z}, \\mathbf{z}')$ measures the extent to which knowing a node's label in $\\mathbf{z}$ helps you guess its label in $\\mathbf{z}'$. [The entropy and mutual information are both quantities introduced by @shannon1948mathematical in a famous paper that launched the field of *information theory*. Information theory is widely used in electrical engineering, statistics, statistical physics, and machine learning. See @cover2006elements for a modern treatment of the topic.]{.aside}\n",
    "\n",
    "Here are implementations of the entropy, mutual information, and normalized mutual information:"
   ]
  },
  {
   "cell_type": "code",
   "execution_count": null,
   "metadata": {},
   "outputs": [],
   "source": [
    "def H(z, G): \n",
    "    z = labels_to_array(z, G)\n",
    "    n = len(z)\n",
    "    p = np.array([np.mean(z == i) for i in np.unique(z)])\n",
    "    return -np.sum(p*np.log(p))\n",
    "\n",
    "def I(z, z_, G):\n",
    "    z  = labels_to_array(z, G)\n",
    "    z_ = labels_to_array(z_, G)\n",
    "\n",
    "    n = len(z)\n",
    "\n",
    "    # we're going to accumulate the joint distribution of labels \n",
    "    # in a for-loop. \n",
    "    # an alternative would be to form it as an array and then reduce\n",
    "    info = 0\n",
    "    for i in np.unique(z): \n",
    "        for j in np.unique(z_): \n",
    "            p = np.mean((z == i) & (z_ == j))\n",
    "            if p == 0: \n",
    "                continue\n",
    "            info += p*np.log(p/(np.mean(z == i)*np.mean(z_ == j)))\n",
    "    return info\n",
    "\n",
    "def NMI(z, z_, G): \n",
    "    return 2*I(z, z_, G)/(H(z, G) + H(z_, G))"
   ]
  },
  {
   "cell_type": "markdown",
   "execution_count": null,
   "metadata": {},
   "outputs": [],
   "source": [
    "Now we can assess the performance of our greedy clustering algorithm against ground truth: "
   ]
  },
  {
   "cell_type": "code",
   "execution_count": null,
   "metadata": {},
   "outputs": [],
   "source": [
    "NMI(clusters, greedy_clusters, G)"
   ]
  },
  {
   "cell_type": "markdown",
   "execution_count": null,
   "metadata": {},
   "outputs": [],
   "source": [
    "Frequently when assessing a clustering method, it's not really easy to tell out of context whether it's useful or not. We often assess the method against competing methods, and often on several data sets. \n"
   ]
  },
  {
   "cell_type": "code",
   "execution_count": null,
   "metadata": {},
   "outputs": [],
   "source": [
    "def test_suite(G, clusters):\n",
    "\n",
    "    # retrieve our own greedy clusters and assess\n",
    "    greedy_clusters = greedy_clustering(G, num_steps = int(1e4))[0]\n",
    "    print(f\"Our greedy agglomeration clustering has NMI = {NMI(clusters, greedy_clusters, G):.3f}\\n\")\n",
    "\n",
    "    # now compare against an array of built-in methods. \n",
    "    def cluster_from_partition(partition):\n",
    "        return {node : i for i, nodes in enumerate(partition) for node in nodes}\n",
    "\n",
    "    methods = [nx.community.greedy_modularity_communities, nx.community.asyn_lpa_communities, nx.community.label_propagation_communities, nx.community.louvain_communities]\n",
    "\n",
    "    for method in methods:\n",
    "        partition = method(G)\n",
    "        inferred_clusters = cluster_from_partition(partition)\n",
    "        print(f\"Method {method.__name__} has NMI = {NMI(clusters, inferred_clusters, G):.3f}\")"
   ]
  },
  {
   "cell_type": "markdown",
   "execution_count": null,
   "metadata": {},
   "outputs": [],
   "source": [
    "Let's run our test suite: "
   ]
  },
  {
   "cell_type": "code",
   "execution_count": null,
   "metadata": {},
   "outputs": [],
   "source": [
    "test_suite(G, clusters)"
   ]
  },
  {
   "cell_type": "markdown",
   "execution_count": null,
   "metadata": {},
   "outputs": [],
   "source": [
    "Our algorithm appears to be competitive with several of the built-in methods for community detection implemented in Networkx.\n",
    "\n",
    "Would we get different results on another graph? Let's load up our friend the Karate Club graph: "
   ]
  },
  {
   "cell_type": "code",
   "execution_count": null,
   "metadata": {},
   "outputs": [],
   "source": [
    "G_karate = nx.karate_club_graph()\n",
    "G_karate = nx.convert_node_labels_to_integers(G_karate)\n",
    "clusters_karate = nx.get_node_attributes(G_karate, \"club\")\n",
    "clusters_karate = {node : 0 if club == \"Mr. Hi\" else 1 for node, club in clusters_karate.items()}"
   ]
  },
  {
   "cell_type": "markdown",
   "execution_count": null,
   "metadata": {},
   "outputs": [],
   "source": [
    "Now we'll run our test suite again: "
   ]
  },
  {
   "cell_type": "code",
   "execution_count": null,
   "metadata": {},
   "outputs": [],
   "source": [
    "test_suite(G_karate, clusters_karate)"
   ]
  },
  {
   "cell_type": "markdown",
   "execution_count": null,
   "metadata": {},
   "outputs": [],
   "source": [
    "Our algorithm appears to be a bit less impressive in this context, although results may vary due to randomness. A full test suite would often involve averaging the NMI over many runs of each algorithm.  \n",
    "\n",
    "## Other Approaches\n",
    "\n",
    "There are many other ways to perform community detection in networks. Sticking to the setting of undirected graphs, we still have lots of choices: \n",
    "\n",
    "1. We can use a different algorithm to optimize modularity. \n",
    "2. We can optimize something other than modularity. \n",
    "3. We can decide that optimization-based community detection is not what we want to do at all---instead we can use methods based on statistical inference and sampling (e.g. @peixoto2019bayesian).\n",
    "\n",
    "There are additional choices and complications introduced when considering directed graphs or graphs in which edges can include more than two nodes. \n",
    "\n",
    "\n",
    "\n",
    "## References"
   ]
  }
 ],
 "metadata": {
  "kernelspec": {
   "display_name": "Python 3 (ipykernel)",
   "language": "python",
   "name": "python3",
   "path": "/Users/philchodrow/My Drive (pchodrow@middlebury.edu)/teaching/networks-notes/env/share/jupyter/kernels/python3"
  }
 },
 "nbformat": 4,
 "nbformat_minor": 4
}
