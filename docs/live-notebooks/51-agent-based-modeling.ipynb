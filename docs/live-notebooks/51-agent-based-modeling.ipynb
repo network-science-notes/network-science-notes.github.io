{
 "cells": [
  {
   "cell_type": "markdown",
   "execution_count": null,
   "metadata": {},
   "outputs": [],
   "source": [
    "\n",
    "\n",
    "# Agent-Based Modeling on Networks\n",
    "\n",
    "Many of the problems that interest us in networks relate to agents making actions or decisions on network structures. While in some cases we can develop relatively complete mathematical descriptions of systems like these, in other cases we need to perform computational simulations and experiments. In this set of notes, we'll focus on basic techniques for *agent-based modeling* (ABM) in Python. \n",
    "\n",
    "In agent-based modeling, we construct a model by defining a set of agents and the rules by which those agents interact. There are many good software packages for agent-based modeling, perhaps the most famous of which is [NetLogo](https://en.wikipedia.org/wiki/NetLogo). [For even more comparisons, see [this page](https://en.wikipedia.org/wiki/Comparison_of_agent-based_modeling_software).]{.aside} In this class, we'll use one of several agent-based modeling frameworks developed for Python, called [mesa](https://mesa.readthedocs.io/en/latest/). Mesa includes a number of useful tools for constructing, analyzing, and visualizing agent-based models. You can install Mesa using \n",
    "\n",
    "```{bash}\n",
    "pip install mesa\n",
    "```\n",
    "\n",
    "at the command line or by searching for and installing it in the Environments tab of Anaconda Navigator. Once you've installed Mesa, you are ready to use its tools. \n",
    "\n",
    "## Components of an Agent-Based Model\n",
    "\n",
    "Let's start with some vocabulary. A Mesa model has several components: \n",
    "\n",
    "- An **agent** is a representation of the individuals who make decisions and perform actions. Agents have a `step()` method that describes their behavior. \n",
    "- The **grid** is a representation of relationships between individuals. The grid can be, say, a 2d rectangle, in which case we could imagine it representing space. In this class, we'll of course use a *network grid*, in which we can use a network to specify relationships. \n",
    "- The **data collector** helps us gather data on our simulation. \n",
    "\n",
    "## First Example: Simple Random Walk\n",
    "\n",
    "For our first agent-based model, we are going to code up an agent-based implementation of the simple random walk. There are lots of reasonable ways to do this, and Mesa is actually a bit of overkill for this particular problem. Still, we'll learn some important techniques and concepts along the way. \n",
    "\n",
    "Let's start by importing several tools that we'll use. "
   ]
  },
  {
   "cell_type": "code",
   "execution_count": null,
   "metadata": {},
   "outputs": [],
   "source": [
    "from mesa import Model, Agent                 # core mesa classes\n",
    "from mesa.space import NetworkGrid             \n",
    "from mesa.datacollection import DataCollector\n",
    "\n",
    "import networkx as nx                         \n",
    "import numpy as np                            \n",
    "from matplotlib import pyplot as plt          \n",
    "plt.style.use('seaborn-v0_8-whitegrid')"
   ]
  },
  {
   "cell_type": "markdown",
   "execution_count": null,
   "metadata": {},
   "outputs": [],
   "source": [
    "Since this is a networks class, we'll use a network-based grid. We imported the capability to do that above as the `mesa.space.NetworkGrid` class. Of course, we need a network to use. For this example, we'll use the Les Miserable Graph, which is built in to NetworkX: "
   ]
  },
  {
   "cell_type": "code",
   "execution_count": null,
   "metadata": {},
   "outputs": [],
   "source": [
    "G = nx.les_miserables_graph()\n",
    "G = nx.convert_node_labels_to_integers(G)"
   ]
  },
  {
   "cell_type": "markdown",
   "execution_count": null,
   "metadata": {},
   "outputs": [],
   "source": [
    "We'll soon use this to create our model. \n",
    "\n",
    "### The Model Class\n",
    "\n",
    "To specify an ABM in Mesa we need to define two classes: a class describing the model and a class describing each individual agent. The main responsibilities of the model class are to describe: \n",
    "\n",
    "- How the model is initialized, via the `__init__()` method. This includes: \n",
    "    - Creating any agents needed. \n",
    "    - Placing those agents on the grid and placing them in the schedule. \n",
    "    - Defining any data collection tools. \n",
    "- What happens in a single time-step of the model, via the `step()` method. \n",
    "\n",
    "The model class actually has a lot more functionality than this. Fortunately, we don't usually need to define this functionality, because the model class we create inherits the needed functionality from `mesa.Model` (which we imported above). Here's our `SRWModel` class. The syntax can look a little complicated whenever we work with a new package, but what's going on is fundamentally pretty simple. We've added annotations next to the most important lines of code; other lines are also necessary for correct functioning but are more boilerplate than informative. "
   ]
  },
  {
   "cell_type": "code",
   "execution_count": null,
   "metadata": {},
   "outputs": [],
   "source": [
    "\n",
    "class RWModel(Model):\n",
    "\n",
    "    # model setup\n",
    "    def __init__(self, G, agent_class, **kwargs):                 # <1>\n",
    "        \n",
    "        super().__init__()\n",
    "        self.grid     = NetworkGrid(G)                            # <2>\n",
    "        \n",
    "        agent = agent_class(self, **kwargs)                       # <3>\n",
    "        node = self.random.choice(list(G.nodes))                  \n",
    "        self.grid.place_agent(agent, node)                        # <4>\n",
    "\n",
    "        self.collector = DataCollector(                           # <5>\n",
    "            agent_reporters = {\n",
    "                \"node\" : lambda a: a.pos\n",
    "            }\n",
    "        )\n",
    "\n",
    "    def step(self):                                              # <6>\n",
    "        self.agents.do(\"step\") \n",
    "        self.collector.collect(self)                             # <7>"
   ]
  },
  {
   "cell_type": "markdown",
   "execution_count": null,
   "metadata": {},
   "outputs": [],
   "source": [
    "1. We initialize the model and choose its arguments. In this case, the arguments are `G`. \n",
    "2. The `self.grid` object defines the space on which agents move. In our case, we can make a `NetworkGrid` object directly out of a `NetworkX` graph `G`. \n",
    "3. This model is only going to have a single agent, whose behavior we'll define when we implement `Agent` classes below. For now, we're going to let the model initialize a single agent of some user-specified class (passed in as part of the `__init__` method.)\n",
    "4. We place the agent at a random node on the graph.\n",
    "5. The `DataCollector` object will let us gather data on the behavior of the agent over time. Eventually, we'll be able to return this information as a Pandas data frame. \n",
    "6. The `step()` method is where something actually happens in the model. In our case, we just need to have the agent call its `step` method and then collect data. \n",
    "\n",
    "\n",
    "\n",
    "### The Agent Class\n",
    "\n",
    "Now we're ready to define what the agent is supposed to do! In the SRW, the agent looks at all nodes adjacent to theirs, chooses one of them uniformly at random, and moves to it. We need to implement this behavior in the `step()` method. While there are some more mesa functions involved that you may not have seen before, the approach is very simple. "
   ]
  },
  {
   "cell_type": "code",
   "execution_count": null,
   "metadata": {},
   "outputs": [],
   "source": [
    "class SRWAgent(Agent):\n",
    "    def __init__(self, model):\n",
    "        super().__init__(model)\n",
    "        self.unique_id = \"Anakin Graphwalker\"                             #<1>\n",
    "\n",
    "    def step(self):\n",
    "\n",
    "        # find all possible next steps\n",
    "        # include_center determines whether or not we count the \n",
    "        # current position as a possibility\n",
    "        options = self.model.grid.get_neighborhood(self.pos,  #<2>\n",
    "                                                include_center = False) \n",
    "\n",
    "        # pick a random one and go there\n",
    "        new_node = self.random.choice(options)\n",
    "        self.model.grid.move_agent(self, new_node)                       #<3>"
   ]
  },
  {
   "cell_type": "markdown",
   "execution_count": null,
   "metadata": {},
   "outputs": [],
   "source": [
    "1. The unique id of the node helps us keep track of it and is useful when analyzing data from the simulation. \n",
    "2. The `get_neighborhood` method of the `grid` object returns a list of all nodes adjacent to the current node. The `include_center` argument determines whether or not we include the current node in this list. In this case, since we always want to move to a new location, we do not include the current node. Note that the `grid` is an instance variable of the `model`, a reference to which  is in turn saved as an instance variable of the `agent`.\n",
    "3. The `move_agent` method of the `grid` object hands actually updating the position of the agent to the newly-chosen node. \n",
    "\n",
    "Note that, in order to get information about the possible locations, and to move the agent, we needed to use the `grid` attribute of the `SRWModel` that we defined above. More generally, the grid handles all \"spatial\" operations that we usually need to do. \n",
    "\n",
    "### Experiment\n",
    "\n",
    "Phew, that's it! Once we've defined our model class, we can then run it for a bunch of timesteps:"
   ]
  },
  {
   "cell_type": "code",
   "execution_count": null,
   "metadata": {},
   "outputs": [],
   "source": [
    "model = RWModel(G, SRWAgent)\n",
    "\n",
    "for i in range(100000):\n",
    "    model.step()"
   ]
  },
  {
   "cell_type": "markdown",
   "execution_count": null,
   "metadata": {},
   "outputs": [],
   "source": [
    "We can get data on the behavior of the simulation using the `collector` attribute of the model. We programmed the collector to gather only the position of the walker. There are lots of other possibilities we could have chosen instead. "
   ]
  },
  {
   "cell_type": "code",
   "execution_count": null,
   "metadata": {},
   "outputs": [],
   "source": [
    "walk_report = model.collector.get_agent_vars_dataframe()\n",
    "walk_report.head()"
   ]
  },
  {
   "cell_type": "markdown",
   "execution_count": null,
   "metadata": {},
   "outputs": [],
   "source": [
    "Now let's ask: is the simulation we just did lined up with what we know about the theory of the simple random walk? [We derived this theory in @sec-srw.]{.aside} Recall that the *stationary distribution* $\\pi$ of the SRW is supposed to describe the long-term behavior of the walk, with $\\pi_i$ giving the limiting probability that the walker is on node $i$. Recall further that the stationary distribution for the SRW is actually known in closed form: it's $\\pi_i = k_i / 2m$, where $k_i$ is the degree of node $i$. So, we would expect this to be a good estimate of the fraction of time that the walker spent on node $i$. Let's check this!  \n",
    "\n",
    "Let's compute the fraction of time that the agent spent on each node and compare it to the stationary distribution of the underlying graph: "
   ]
  },
  {
   "cell_type": "code",
   "execution_count": null,
   "metadata": {},
   "outputs": [],
   "source": [
    "# simulation results\n",
    "counts = walk_report.groupby(\"node\").size()\n",
    "freqs = counts / sum(counts)\n",
    "freqs.head()\n",
    "\n",
    "# stationary distribution of graph\n",
    "degs = [G.degree(i) for i in freqs.index]\n",
    "stationary_dist = degs / np.sum(degs)"
   ]
  },
  {
   "cell_type": "markdown",
   "execution_count": null,
   "metadata": {},
   "outputs": [],
   "source": [
    "Finally, we can plot and see whether the prediction lines up with the observation: "
   ]
  },
  {
   "cell_type": "code",
   "execution_count": null,
   "metadata": {},
   "outputs": [],
   "source": [
    "\n",
    "fig, ax = plt.subplots(figsize = (4, 4)) \n",
    "ax.plot([0, 0.08], \n",
    "         [0, 0.08], \n",
    "         color = \"grey\", label = \"prediction\", linestyle =\"--\")\n",
    "\n",
    "ax.scatter(stationary_dist, \n",
    "            freqs, \n",
    "            zorder = 100, label = \"ABM\", facecolors=\"steelblue\", s = 50, edgecolors = \"black\")\n",
    "\n",
    "ax.set(xlabel = r\"$\\frac{k_i}{2m}$\", \n",
    "              ylabel = \"% of time spent on node\")\n",
    "\n",
    "ax.set_aspect('equal', 'box')\n",
    "\n",
    "ax.legend()"
   ]
  },
  {
   "cell_type": "markdown",
   "execution_count": null,
   "metadata": {},
   "outputs": [],
   "source": [
    "That's a match! It is possible to provide probabilistic guarantees on how many simulation steps would be necessary to achieve a specified degree of tolerance in the difference between simulated proportions and the stationary distribution. \n",
    "\n",
    "### Variation: PageRank\n",
    "\n",
    "The reason that we parameterized the `RWModel` class with the argument `agent_class` is that we can now implement other random walks, like PageRank, just by modifying the agent behavior. Let's now make a new kind of agent that does the PageRank step. In a PageRank step: \n",
    "\n",
    "- With probability $\\alpha$, the agent teleports to a random node.\n",
    "- With probability $1 - \\alpha$, the agent chooses a neighbor instead does a simple random walk step. "
   ]
  },
  {
   "cell_type": "code",
   "execution_count": null,
   "metadata": {},
   "outputs": [],
   "source": [
    "\n",
    "class PageRankAgent(Agent):\n",
    "\n",
    "    def __init__(self, model, alpha):\n",
    "        super().__init__(model)\n",
    "        self.alpha = alpha\n",
    "\n",
    "    def step(self):\n",
    "        if np.random.rand() < self.alpha:                              #<1>\n",
    "            options = list(self.model.grid.G.nodes.keys())\n",
    "        else:                                                          #<2>\n",
    "            options = self.model.grid.get_neighborhood(self.pos, \n",
    "                                                include_center = False)\n",
    "\n",
    "        # pick a random one and go there\n",
    "        new_node = np.random.choice(options)\n",
    "        self.model.grid.move_agent(self, new_node)"
   ]
  },
  {
   "cell_type": "markdown",
   "execution_count": null,
   "metadata": {},
   "outputs": [],
   "source": [
    "1. Teleportation step. \n",
    "2. Simple random walk step.\n",
    "\n",
    "\n",
    "That's all we need to do in order to implement PageRank. Let's go ahead and run: "
   ]
  },
  {
   "cell_type": "code",
   "execution_count": null,
   "metadata": {},
   "outputs": [],
   "source": [
    "pagerank_model = RWModel(G, PageRankAgent, alpha = 0.15)\n",
    "\n",
    "for i in range(100000):\n",
    "    pagerank_model.step()"
   ]
  },
  {
   "cell_type": "markdown",
   "execution_count": null,
   "metadata": {},
   "outputs": [],
   "source": [
    "That's it! Now we could check the match with the stationary distribution like we did last time. Instead, let's simply draw the graph. "
   ]
  },
  {
   "cell_type": "code",
   "execution_count": null,
   "metadata": {},
   "outputs": [],
   "source": [
    "walk_report = pagerank_model.collector.get_agent_vars_dataframe()\n",
    "\n",
    "counts = walk_report.groupby(\"node\").size()\n",
    "freqs  = counts / np.sum(counts)\n",
    "\n",
    "plot_kwargs = {\n",
    "    \"with_labels\": True,\n",
    "    \"font_size\": 8,\n",
    "    \"edge_color\": \"gray\",\n",
    "    \"edgecolors\": \"white\",\n",
    "    \"width\" : 0.3, \n",
    "    \"node_color\": \"steelblue\",\n",
    "}\n",
    "\n",
    "g = nx.draw(G, \n",
    "        node_size = [10000*freqs[i] for i in G.nodes], \n",
    "        **plot_kwargs)"
   ]
  },
  {
   "cell_type": "markdown",
   "execution_count": null,
   "metadata": {},
   "outputs": [],
   "source": [
    "The simulation-based version of PageRank is actually similar to Google's original implementation of PageRank: rather than solving a linear system, it was sufficient to simply let a webcrawler randomly follow links (with occasional teleportation) and then simply report how often it visited each website. The theory of random walks guarantees that the results will be close to the theoretical PageRank values provided that the number of steps is sufficiently large. \n",
    " \n",
    "## Multi-Agent Models\n",
    "\n",
    "Most of the interesting stuff to do with agent-based modeling involves interactions between multiple agents. For a first example of a multi-agent model with interactions, let's consider the *voter model* of opinion dynamics. \n",
    "[In fact, there are many different models that are all called \"the\" voter model. The one we'll discuss here is the simplest and most common.]{.aside}\n",
    "\n",
    "In the voter model, every agent $i$ has a binary opinion $x_i \\in \\{0,1\\}$. In each timestep, agents adopt the opinion of a randomly chosen neighbor. \n",
    "\n",
    "A decision must be made about whether to update *synchronously* or *asynchronously*. In a synchronous update, every agent takes the same step at exactly the same time. In asynchronous updates, the agents act one at a time, usually in a randomly-selected order. The practical difference between synchronous and asynchronous updating is not *usually* large, but can in some cases make major modeling differences. \n",
    "\n",
    "For this example, we'll use asynchronous updates. Mesa implements this conveniently using the `shuffle_do` method. \n",
    "\n",
    "Let's now implement the voter model. We'll call the container model class a `CompartmentalModel`, because we'll reuse it when we get to other models in which agents can be sorted into categories. "
   ]
  },
  {
   "cell_type": "code",
   "execution_count": null,
   "metadata": {},
   "outputs": [],
   "source": [
    "class CompartmentalModel(Model):\n",
    "\n",
    "    # model setup\n",
    "    def __init__(self, G, agent_class, possible_states = [0,1], state_density = [0.5, 0.5]):\n",
    "\n",
    "        super().__init__()\n",
    "        self.grid = NetworkGrid(G)            # space structure\n",
    "        \n",
    "        # populate the graph with nodes initialized with one of the two \n",
    "        # possible states\n",
    "        for node in list(G.nodes):\n",
    "            state = np.random.choice(possible_states, p = state_density)\n",
    "            agent = agent_class(self, state)\n",
    "            self.grid.place_agent(agent, node)\n",
    "            # self.schedule.add(agent)\n",
    "\n",
    "        # collect the states of each agent over time\n",
    "        self.collector = DataCollector(\n",
    "            agent_reporters = {\n",
    "                \"state\" : lambda a: a.state\n",
    "            }\n",
    "        )\n",
    "\n",
    "    def step(self):\n",
    "        self.agents.shuffle_do(\"step\") # asynchronous activation\n",
    "        self.collector.collect(self)"
   ]
  },
  {
   "cell_type": "markdown",
   "execution_count": null,
   "metadata": {},
   "outputs": [],
   "source": [
    "Now we'll implement a `VoterAgent`. In the `step` method of the `VoterAgent`, the agent inspects the set of its neighbors, chooses one uniformly at random, and then adapts its state. The structure of this step is very similar to the simple random walk; only instead of moving to a new location, the agent instead updates its `state` instance variable. \n"
   ]
  },
  {
   "cell_type": "code",
   "execution_count": null,
   "metadata": {},
   "outputs": [],
   "source": [
    "\n",
    "class VoterAgent(Agent):\n",
    "\n",
    "    def __init__(self, model, state):\n",
    "        super().__init__(model)\n",
    "        self.state = state\n",
    "\n",
    "    def step(self):\n",
    "        neighbors = self.model.grid.get_neighbors(self.pos, \n",
    "                                                include_center = False)\n",
    "\n",
    "        adopt_from = np.random.choice(neighbors)\n",
    "        self.state = adopt_from.state"
   ]
  },
  {
   "cell_type": "markdown",
   "execution_count": null,
   "metadata": {},
   "outputs": [],
   "source": [
    "Let's run an instance of the voter model and plot the proportion of nodes with opinion 1: "
   ]
  },
  {
   "cell_type": "code",
   "execution_count": null,
   "metadata": {},
   "outputs": [],
   "source": [
    "\n",
    "voter_model = CompartmentalModel(G, VoterAgent, [0, 1], [0.5, 0.5])\n",
    "\n",
    "timesteps = 50\n",
    "for i in range(timesteps):\n",
    "    voter_model.step() # remember that each model step updates every agent\n",
    "report = voter_model.collector.get_agent_vars_dataframe()\n",
    "\n",
    "fig, ax = plt.subplots(1, 1, figsize = (5, 4))\n",
    "\n",
    "proportions = report.groupby(\"Step\").mean()\n",
    "\n",
    "ax.plot(np.arange(timesteps), proportions, color = \"steelblue\")\n",
    "ax.scatter(np.arange(timesteps), proportions, color = \"steelblue\", facecolor = \"white\", zorder = 100)\n",
    "labs = ax.set(xlabel = \"Timestep\", ylabel = \"% of nodes with opinion 1\", ylim = (-0.1, 1.1))"
   ]
  },
  {
   "cell_type": "markdown",
   "execution_count": null,
   "metadata": {},
   "outputs": [],
   "source": [
    "The proportion of nodes with opinion eventually reaches either 0 or 1 and then stops changing. This is guaranteed to happen in the voter model, with the eventual winning opinion depending on the density of opinions in the initial condition.\n",
    "\n",
    "\n",
    "## References"
   ]
  }
 ],
 "metadata": {
  "kernelspec": {
   "display_name": "Python 3 (ipykernel)",
   "language": "python",
   "name": "python3",
   "path": "/Users/philchodrow/My Drive (pchodrow@middlebury.edu)/teaching/networks-notes/env/share/jupyter/kernels/python3"
  }
 },
 "nbformat": 4,
 "nbformat_minor": 4
}
