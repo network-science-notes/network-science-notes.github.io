{
 "cells": [
  {
   "cell_type": "markdown",
   "execution_count": null,
   "metadata": {},
   "outputs": [],
   "source": [
    "\n",
    "\n",
    "# The PageRank Algorithm\n",
    "\n",
    "*Note*: This set of notes is currently a stub. We'll add more content soon. \n",
    "\n",
    "As an example of running the PageRank algorithm, let's consider the network of mentions in the musical Hamilton. [We retrieved this data from the [public GitHub repository](https://github.com/ahunker/Hamilton-Project) of the [Hamilton Project](https://newtfire.org/hamilton/index.html).]{.aside}\n",
    "\n",
    "![](https://cms-assets.soraschools.com/cdn-cgi/image/f=auto,w=2000/uploads/Sora_Journal_November_Thumbnails_1_e8f0d16610_a3c0784672.webp)\n",
    "\n",
    "In this network, there is a directed arrow from character $A$ to character $B$ if character $A$ mentions character $B$ in a song. You might reasonably expect that the characters who are frequently mentioned in songs would tend to be the most important characters in the musical. \n"
   ]
  },
  {
   "cell_type": "code",
   "execution_count": null,
   "metadata": {},
   "outputs": [],
   "source": [
    "import networkx as nx\n",
    "import numpy as np\n",
    "import pandas as pd\n",
    "\n",
    "df = pd.read_csv(\"https://philchodrow.github.io/PIC16A/homework/HW3-hamilton-data.csv\", \n",
    "names = [\"mentioner\", \"mentioned\"])\n",
    "\n",
    "df = df[df[\"mentioner\"] != df[\"mentioned\"]]\n",
    "\n",
    "G = nx.from_pandas_edgelist(df, \n",
    "                            source = \"mentioner\", \n",
    "                            target = \"mentioned\", \n",
    "                            edge_attr=None, \n",
    "                            create_using=nx.DiGraph())\n",
    "\n",
    "for i in range(2):\n",
    "    G = G.subgraph([name for name, val in G.out_degree() if val > 0])"
   ]
  },
  {
   "cell_type": "code",
   "execution_count": null,
   "metadata": {},
   "outputs": [],
   "source": [
    "layout = nx.spring_layout(G)\n",
    "\n",
    "nx.draw(G, layout, \n",
    "            node_size = 500, \n",
    "            with_labels = True,\n",
    "            edge_color = \"lightgray\", \n",
    "            node_color = \"lavender\",\n",
    "            edgecolors  = \"darkgray\")"
   ]
  },
  {
   "cell_type": "markdown",
   "execution_count": null,
   "metadata": {},
   "outputs": [],
   "source": [
    "Now let's implement the PageRank algorithm for this graph. \n",
    "\n",
    ":::{.callout-note}\n",
    ":::{#def-pagerank-walk}\n",
    "\n",
    "## PageRank Random Walk\n",
    "\n",
    "The **PageRank random walk** has two parameters: \n",
    "\n",
    "- The *teleportation vector* $\\mathbf{v} \\in \\mathbb{R}^n_+$, which we assume to satisfy $\\sum_{i\\in N}v_i = 1$. \n",
    "- The *teleportation rate* $\\alpha\\in [0,1]$. \n",
    "\n",
    "This walk has transition probabilities \n",
    "$$\n",
    "\\mathbb{P}(X_{t+1} = i|X_{t}=j) = (1-\\alpha)\\frac{a_{ij}}{k_j^{\\mathrm{out}}} + \\alpha v_i\\;. \n",
    "$${#eq-pagerank-transition}\n",
    "\n",
    "Its transition matrix is \n",
    "\n",
    "$$\n",
    "\\mathbf{P} = (1-\\alpha) \\mathbf{A}(\\mathbf{K}^{\\mathrm{out}})^{-1} + \\alpha \\mathbf{V}\\;,\n",
    "$$\n",
    "\n",
    "$$\n",
    "\\mathbf{V} = \\left[\\begin{matrix}\n",
    "    | & | & \\cdots & | \\\\ \n",
    "    \\mathbf{v} & \\mathbf{v} & \\cdots & \\mathbf{v} \\\\ \n",
    "    | & | & \\cdots & |\n",
    "\\end{matrix}\\right]\\;.\n",
    "$$\n",
    "\n",
    ":::\n",
    ":::\n",
    "\n",
    "Here's the intuitive way to think about this walk. At each time step, the walker flips a weighted coin with probability of heads equal to $\\alpha$. \n",
    "\n",
    "- If heads, the walker chooses to sample from the probability distribution encoded by $\\mathbf{v}$. That is, the walker chooses from among all the nodes in $N$, and picks node $i$ with probability $v_i$. \n",
    "- If tails, the walker instead follows a link, just like in the directed random walk. \n",
    "\n",
    "This is why there are two terms in the transition probability in @eq-pagerank-transition. The first term corresponds to the \"tails\" scenario in which the walker does a step corresponding to the directed random walk, while the second term corresponds to teleportation. \n",
    "\n",
    "The standard choice of the teleportation vector is $\\mathbf{v} = \\frac{1}{n}\\mathbf{1}$, so each node has an equal probability of being chosen for teleportation. However, it's also possible to take other approaches, as we'll see in a moment. \n",
    "\n",
    "\n",
    "## Implementation\n"
   ]
  },
  {
   "cell_type": "code",
   "execution_count": null,
   "metadata": {},
   "outputs": [],
   "source": [
    "def pagerank(G, v, alpha = 0.15):\n",
    "\n",
    "    assert np.isclose(v.sum(), 1.0)\n",
    "\n",
    "    # construct the PR transition matrix\n",
    "    A  = nx.to_numpy_array(G).T\n",
    "    K  = np.diag(A.sum(axis = 0))     # K^out\n",
    "    P_ = A@np.linalg.inv(K)           # random walk matrix\n",
    "    V  = np.outer(v, np.ones(len(v))) # teleportation matrix\n",
    "    P = (1-alpha)*P_ + alpha*V        # overall transition matrix\n",
    "\n",
    "    # grab the eigenvector with eigenvalue 1, normalize it and return. \n",
    "    eigs = np.linalg.eig(P)        \n",
    "    pi = eigs[1][:,np.isclose(eigs[0], 1.0)]\n",
    "    pi = np.abs(pi) / np.abs(pi).sum()\n",
    "    return pi"
   ]
  },
  {
   "cell_type": "markdown",
   "execution_count": null,
   "metadata": {},
   "outputs": [],
   "source": [
    "Let's try using PageRank with a uniform teleportation vector:  "
   ]
  },
  {
   "cell_type": "code",
   "execution_count": null,
   "metadata": {},
   "outputs": [],
   "source": [
    "n = len(G.nodes())\n",
    "v = 1/n*np.ones(n)\n",
    "pagerank(G, v)"
   ]
  },
  {
   "cell_type": "markdown",
   "execution_count": null,
   "metadata": {},
   "outputs": [],
   "source": [
    "We can also redraw the graph with nodes scaled by their PageRank scores. "
   ]
  },
  {
   "cell_type": "code",
   "execution_count": null,
   "metadata": {},
   "outputs": [],
   "source": [
    "def draw_pagerank(G, v,  layout, alpha = 0.15):\n",
    "\n",
    "    pi = pagerank(G, v, alpha = alpha)\n",
    "    nx.draw(G, layout, \n",
    "            node_size = 5000*pi, \n",
    "            with_labels = True,\n",
    "            edge_color = \"lightgray\", \n",
    "            node_color = \"lavender\",\n",
    "            edgecolors  = \"darkgray\")\n",
    "\n",
    "v = 1/n*np.ones(n)\n",
    "draw_pagerank(G, v, layout, alpha = 0.1)"
   ]
  },
  {
   "cell_type": "code",
   "execution_count": null,
   "metadata": {},
   "outputs": [],
   "source": [
    "v = np.array([1 if i == \"kingGeorge\" else 0 for i in list(G.nodes())])\n",
    "draw_pagerank(G, v, layout)"
   ]
  }
 ],
 "metadata": {
  "kernelspec": {
   "display_name": "Python 3 (ipykernel)",
   "language": "python",
   "name": "python3",
   "path": "/Users/philchodrow/My Drive (pchodrow@middlebury.edu)/teaching/networks-notes/env/share/jupyter/kernels/python3"
  }
 },
 "nbformat": 4,
 "nbformat_minor": 4
}
