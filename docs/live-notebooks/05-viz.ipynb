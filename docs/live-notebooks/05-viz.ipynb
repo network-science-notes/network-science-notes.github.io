{
 "cells": [
  {
   "cell_type": "markdown",
   "execution_count": null,
   "metadata": {},
   "outputs": [],
   "source": [
    "\n",
    "\n",
    "# Visualizing Networks and Why You Shouldn't\n",
    "\n",
    "We've drawn networks several times in this course so far. Here's one of our favorite running examples, the Karate Club graph. Let's compare two ways to draw this network. On the left, we've drawn the graph by assigning every node to a location in the unit square $[0,1]^2$ uniformly at random. On the right, we have used the default layout algorithm in NetworkX, which is invoked automatically when we call `nx.draw`."
   ]
  },
  {
   "cell_type": "code",
   "execution_count": null,
   "metadata": {},
   "outputs": [],
   "source": [
    "import networkx as nx\n",
    "import numpy as np \n",
    "from matplotlib import pyplot as plt \n",
    "from scipy.optimize import minimize\n",
    "\n",
    "fig, ax = plt.subplots(1, 2, figsize = (8, 4))\n",
    "\n",
    "def unweight(G):\n",
    "    for source, target in G.edges():\n",
    "        G[source][target]['weight'] = 1\n",
    "    return G\n",
    "\n",
    "G = unweight(nx.karate_club_graph())\n",
    "\n",
    "draw_kwargs = {\"node_color\": \"steelblue\", \"node_size\": 100, \"edge_color\": \"grey\", \"edgecolors\" : \"white\", \"width\": 0.5}\n",
    "\n",
    "nx.draw(G, ax = ax[1], **draw_kwargs)\n",
    "\n",
    "ax[1].set_title(\"NetworkX default layout\")\n",
    "\n",
    "def random_layout(G):\n",
    "    return np.random.rand(G.number_of_nodes(), 2)\n",
    "\n",
    "random_layout(G)\n",
    "\n",
    "nx.draw(G, pos = random_layout(G), ax = ax[0], **draw_kwargs)\n",
    "title = ax[0].set_title(\"Random layout\")"
   ]
  },
  {
   "cell_type": "markdown",
   "execution_count": null,
   "metadata": {},
   "outputs": [],
   "source": [
    "Which of these drawings look better to you? Which do you feel better helps you understand the structure of the graph? \n",
    "\n",
    "[![](https://www.data-imaginist.com/assets/img/edge_meme_wide.jpg) *Image credit: [Thomas Lin Pedersen](https://www.data-imaginist.com/posts/2017-02-16-ggraph-introduction-edges/)*]{.column-margin}\n",
    "\n",
    "\n",
    "## Network Drawing as Network Embedding\n",
    "\n",
    "While there are many aspects of network drawing (colors, shapes, etc), we'll focus in these notes on one of the most fundamental ones: where should the nodes be placed? Mathematically, placing the nodes in a graph is equivalent to the following task: \n",
    "\n",
    "> To each node $i \\in N$, assign a vector $\\mathbf{x}_i \\in \\mathbb{R}^d$. \n",
    "\n",
    "If we collect all the nodes together, we aim to find a *matrix* $\\mathbf{X} \\in \\mathbb{R}^{n \\times d}$, where $n$ is the number of nodes in the graph, such that the $i$th row of $\\mathbf{X}$ is the vector $\\mathbf{x}_i$ assigned to node $i$. \n",
    "\n",
    "For drawing on a computer screen or chalkboard, $d = 2$. The general task of placing nodes in Euclidean space is often called *graph embedding* (or even more specifically *node embedding*), and has applications in deep learning for much higher values of $d$.\n",
    "\n",
    "In this set of notes, we'll motivate and implement two algorithms for performing the embedding task. We'll then discuss some of the significant limitations associated with drawing networks as points connected by line segments, and consider some alternatives. \n",
    "\n",
    "## Spectral Embedding\n",
    "\n",
    "In Section 6.14.2, @newman2018networks gives some heuristic reasons to suggest that our friend the Laplacian matrix might be useful for drawing networks. Specifically, if $\\mathbf{x} \\mathbb{R}$ is a vector giving the locations of nodes on a 1-d interval, the quadratic form $S(\\mathbf{x}) = \\mathbf{x}^T\\mathbf{L}\\mathbf{x}$ defined by the Laplacian matrix $\\mathbf{L}$ is proportional to the sum of squared lengths on this interval. \n",
    "So, we might reasonably expect that minimizing $S(\\mathbf{x})$ in some way will give us a drawing of the network in which edges are short. \n",
    "Since we know that the small eigenvalues of a symmetric matrix are related to the problem of minimizing the quadratic form $S(\\mathbf{x})$, this suggests that finding the small eigenvalues of the Laplacian could be a useful way to proceed. \n",
    "As we've seen before, the Laplacian $\\mathbf{L}$ has a 0 eigenvalue with an eigenvector of all 1's, which doesn't help us much. \n",
    "So, let's consider the *next* smallest eigenvalues. \n",
    "Since we want to draw the network in 2d, we'll take the two smallest eigenvalues of $\\mathbf{L}$, and use their corresponding eigenvectors to give us 2d coordinates for each node. \n",
    "\n",
    "This algorithm is called *Laplacian spectral embedding*. Formally, \n",
    "\n",
    "1. Form the Laplacian matrix $\\mathbf{L} = \\mathbf{D} - \\mathbf{A}$. \n",
    "2. Find the *second* and *third* smallest eigenvalues of the Laplacian.[Recall that, if $G$ is connected, then the very smallest eigenvalue of the Laplacian is always equal to 0 and corresponds to an eigenvector with constant entries.]{.aside}. Let $\\mathbf{v}_2$ and $\\mathbf{v}_3$ be their corresponding eigenvectors.\n",
    "3. Position the nodes in $\\mathbb{R}^2$ according to the values of these eigenvectors: the first coordinate is given by the entries of $\\mathbf{v}_2$, and the second coordinate is given by the entries of $\\mathbf{v}_3$.\n",
    "\n",
    "This elegant algorithm is important enough to be implemented in NetworkX: it's `nx.spectral_layout`. But we can implement a full version (for connected graphs) of it ourselves. "
   ]
  },
  {
   "cell_type": "code",
   "execution_count": null,
   "metadata": {},
   "outputs": [],
   "source": []
  },
  {
   "cell_type": "markdown",
   "execution_count": null,
   "metadata": {},
   "outputs": [],
   "source": [
    "How'd we do?"
   ]
  },
  {
   "cell_type": "code",
   "execution_count": null,
   "metadata": {},
   "outputs": [],
   "source": [
    "nx.draw(G, pos , **draw_kwargs)"
   ]
  },
  {
   "cell_type": "markdown",
   "execution_count": null,
   "metadata": {},
   "outputs": [],
   "source": [
    "Oh dear, that doesn't look very good at all! This is a good mini-lesson in applied mathematics: sometimes the most elegant solution is outstanding, and sometimes it just doesn't work very well in computational practice. \n",
    "\n",
    "\n",
    "## Isometry Approximation: The Kamada-Kawai Algorithm\n",
    "\n",
    "Let's try a better approach: we'll have the distance between nodes in our drawing correspond the distance between nodes in the graph.There are multiple ways to operationalize this idea, but in these notes, we are going to follow the approach of @kamada1989algorithm. Their mathematical version of this motivation is:  \n",
    "\n",
    "> Choose $\\mathbf{X}$ so that the Euclidean distance $d^e_{ij} = \\lVert \\mathbf{x}_i - \\mathbf{x}_j \\rVert$ is approximately the same as the graph geodesic distance $d^g_{ij}$ between nodes $i$ and $j$, for all pairs of nodes $(i,j)$. \n",
    "\n",
    "This approach is an expression of the geometric idea of *isometry*: we are looking to map the nodes from one metric space (the graph) into another metric space (Euclidean space) in a way that approximately preserves distance.\n",
    "\n",
    "In order to guide our choice of $\\mathbf{X}$, we'll define an optimization objective that measures the deviation of the Euclidean distances from the graph geodesic distances: [The set $\\binom{N}{2}$ is the set of all pairs of nodes. The notation $\\sum_{(i,j) \\in \\binom{N}{2}}$ is equivalent to the notation $\\sum_{i \\in N} \\sum_{\\substack{j \\in N \\\\ j \\neq i}}$.]{.aside}\n",
    "\n",
    "$$\n",
    "\\begin{aligned}\n",
    "    f(\\mathbf{X}, G) &= \\sum_{(i,j) \\in \\binom{N}{2}} \\left( d^e_{ij} - d^g_{ij} \\right)^2    \\\\ \n",
    "                     &= \\sum_{(i,j) \\in \\binom{N}{2}} \\left( \\lVert \\mathbf{x}_i - \\mathbf{x}_j \\rVert - d^g_{ij} \\right)^2\\;.\n",
    "\\end{aligned}\n",
    "$${#eq-energy}\n",
    "\n",
    "This objective function is also sometimes called an \"energy\" of the problem. Importantly, this objective function is minimized (at 0) when the Euclidean distances are exactly equal to the graph geodesic distances. \n",
    "This is not usually possible, and so we'll often need to settle for a nonzero value of $f(\\mathbf{X}, G)$.\n",
    "\n",
    "Let's implement a function that computes the energy, given a matrix of distances $\\mathbf{D}$ and a matrix of node positions $\\mathbf{X}$."
   ]
  },
  {
   "cell_type": "code",
   "execution_count": null,
   "metadata": {},
   "outputs": [],
   "source": []
  },
  {
   "cell_type": "markdown",
   "execution_count": null,
   "metadata": {},
   "outputs": [],
   "source": [
    "There are multiple ways to solve the problem of minimizing the energy. In our approach, we are going to use a greedy algorithm in which we minimize the energy with respect to the position of one node at a time. To this end, it's also helpful to define a *partial energy* which measures the contribution of a single node to the total energy. This is the function that we'll actually minimize in our inner loop. \n",
    "\n",
    "::: {.callout-important}\n",
    "\n",
    "## Exercise\n",
    "\n",
    "Give a formula for the partial energy for node $k$: the terms in @eq-energy that depend on node $k$. \n",
    "\n",
    ":::\n",
    "\n",
    "With a formula in hand, we can implement: [There is some redundancy in this function signature: we are passing the current position $\\mathbf{x}$ of node $k$, the positions $\\mathbf{X}$ of all nodes, the matrix $\\mathbf{D}$ of distances, and the index $k$ of node $k$. The reason we are doing this is so that the minimization function we will soon employ works correctly.]{.aside}"
   ]
  },
  {
   "cell_type": "code",
   "execution_count": null,
   "metadata": {},
   "outputs": [],
   "source": []
  },
  {
   "cell_type": "markdown",
   "execution_count": null,
   "metadata": {},
   "outputs": [],
   "source": [
    "Now we'll implement an algorithm that attempts to minimize the energy by moving the position of each node, one at a time. We cycle through all the nodes, updating each of them, and then we repeat the process for some specified number of iterations. First, let's visualize how this looks. Then, we'll implement this algorithm ourselves. "
   ]
  },
  {
   "cell_type": "code",
   "execution_count": null,
   "metadata": {},
   "outputs": [],
   "source": [
    "fig, ax = plt.subplots(2, 4, figsize = (7, 4))\n",
    "\n",
    "D = nx.floyd_warshall_numpy(G) # matrix of Euclidean distances\n",
    "X = random_layout(G) # initialization\n",
    "\n",
    "for i, ax in enumerate(ax.flatten()):\n",
    "    ax.set_title(f\"Iteration {i}\\nEnergy = {energy(X, D):.2f}\")\n",
    "    nx.draw(G, pos = {i: X[i] for i in range(G.number_of_nodes())}, ax = ax, node_size = 50, edge_color = \"gray\", edgecolors = \"white\", node_color = \"steelblue\", width = 0.5)\n",
    "    for k in range(G.number_of_nodes()):\n",
    "        res = minimize(partial_energy, X[k], args = (X, D, k), method = 'BFGS')\n",
    "        X[k] = res.x\n",
    "plt.tight_layout()"
   ]
  },
  {
   "cell_type": "markdown",
   "execution_count": null,
   "metadata": {},
   "outputs": [],
   "source": [
    "Note that the energy very quickly shrinks after the first iteration. The structure of the visualization is resolved fairly clearly after just a small number of iterations. \n",
    "\n",
    "Ok, let's implement a complete function. "
   ]
  },
  {
   "cell_type": "code",
   "execution_count": null,
   "metadata": {},
   "outputs": [],
   "source": []
  },
  {
   "cell_type": "markdown",
   "execution_count": null,
   "metadata": {},
   "outputs": [],
   "source": [
    "Let's try it out: "
   ]
  },
  {
   "cell_type": "code",
   "execution_count": null,
   "metadata": {},
   "outputs": [],
   "source": []
  },
  {
   "cell_type": "markdown",
   "execution_count": null,
   "metadata": {},
   "outputs": [],
   "source": [
    "Our result looks pretty reasonable. Nodes that \"should\" be close to each other do indeed appear to be drawn close together in the graph. \n",
    "\n",
    "The results are not always reliable; if we check the Les Miserables graph, we might argue that a lot of the nodes in the dense center of the graph are a little too squished together: "
   ]
  },
  {
   "cell_type": "code",
   "execution_count": null,
   "metadata": {},
   "outputs": [],
   "source": [
    "G = nx.convert_node_labels_to_integers(nx.les_miserables_graph())\n",
    "X = optimization_layout(G, n_iter = 10)\n",
    "nx.draw(G, pos = {i: X[i] for i in range(G.number_of_nodes())}, **draw_kwargs)"
   ]
  },
  {
   "cell_type": "markdown",
   "execution_count": null,
   "metadata": {},
   "outputs": [],
   "source": [
    "### An Adjustment\n",
    "\n",
    "We can compensate for this by weighting pairs of nodes differently. In the final form of the Kamada-Kawai algorithm, we modify the objective function by incorporating an inverse-square distance weighting. The modified objective function is \n",
    "\n",
    "$$\n",
    "\\begin{aligned}\n",
    "    f(\\mathbf{X}, G)  &= \\sum_{(i,j) \\in \\binom{N}{2}} \\frac{1}{\\left(d^g_{ij}\\right)^2}\\left( \\lVert \\mathbf{x}_i - \\mathbf{x}_j \\rVert - d^g_{ij} \\right)^2\\;.\n",
    "\\end{aligned}\n",
    "$$\n",
    "\n",
    "The implementation here is very similar to our unweighted implementation: we just need to divide by $d_{ij}^2$. "
   ]
  },
  {
   "cell_type": "code",
   "execution_count": null,
   "metadata": {},
   "outputs": [],
   "source": [
    "def energy_weighted(X, D):\n",
    "    n = X.shape[0]\n",
    "    return np.sum([(np.linalg.norm(X[i] - X[j]) - D[i, j])**2/D[i, j]**2 for i in range(n) for j in range(n) if j != i])\n",
    "\n",
    "def partial_energy_weighted(x, X, D, k):\n",
    "    return np.sum([(np.linalg.norm(x - X[j]) - D[k, j])**2 / D[k,j]**2 for j in range(G.number_of_nodes()) if j != k])"
   ]
  },
  {
   "cell_type": "code",
   "execution_count": null,
   "metadata": {},
   "outputs": [],
   "source": []
  },
  {
   "cell_type": "markdown",
   "execution_count": null,
   "metadata": {},
   "outputs": [],
   "source": [
    "This version resolves the nodes in the dense core of the network somewhat more cleanly. \n",
    "\n",
    "::: {.column-margin}\n",
    "\n",
    "A few caveats related to this algorithm: \n",
    "\n",
    "1. The energy function is nonconvex, and so in general it is possible for the optimization routine to get stuck at a suboptimal local minimum. \n",
    "2. Any rotation or reflection of the node positions $\\mathbf{X}$ yields a new layout with the same energy. \n",
    "3. The computation of the complete matrix of pairwise geodesic distances is in general quite expensive on networks of even moderate size. \n",
    "\n",
    ":::\n",
    "\n",
    "There are many other ways to draw networks, several of which are implemented as built-in methods in NetworkX. See the [documentation](https://networkx.org/documentation/stable/reference/drawing.html#module-networkx.drawing.layout) for various other possibilities. \n",
    "\n",
    "\n",
    "## Why You Shouldn't Draw Networks\n",
    "\n",
    "Making attractive visualizations of large networks is a very fun and satisfying thing to do, and some software packages like [Gephi](https://gephi.org/) are specifically designed for this task. We encourage you to put network visualizations on your phone wallpaper, t-shirts, posters, websites, etc. [Indeed, we put a particularly appealing network visualization by HZB's students on our [landing page](index.qmd), and PSC  made a graph visualization as the image background of [his website](https://www.philchodrow.prof/).]{.aside}\n",
    "\n",
    "So, what do we mean when we say that you shouldn't draw networks? In general, it's very difficult to extract reliable structural insights about networks by eye. This means that the one place drawings of networks *usually* don't belong is in scientific papers. It's just too easy for the eye to be drawn to structural features that may or may not actually be present in the data. For this reason, node-edge visualizations of large networks have been called names like \"[ridiculograms](https://petterhol.me/2018/05/28/ridiculograms-a-ridiculous-dialogue/)\" and [hairballs](https://skewed.de/tiago/posts/hairball/) by prominent network scientists. \n",
    "\n",
    "### What You Should Do Instead\n",
    "\n",
    "The right way to visualize the structure of your network is *very* context-dependent, and there are many, many possibilities. Here we'll point out just one: the adjacency matrix. This is a common strategy for visualizing networks that separate into one or more distinct clusters, sometimes also called \"communities.\" For example, simply inspecting the adjacency matrix of the Les Miserables graph can reveal a lot about its structure: "
   ]
  },
  {
   "cell_type": "code",
   "execution_count": null,
   "metadata": {},
   "outputs": [],
   "source": [
    "G = nx.les_miserables_graph()\n",
    "G = unweight(G)\n",
    "G = nx.convert_node_labels_to_integers(G)\n",
    "A = nx.to_numpy_array(G)\n",
    "plt.imshow(A, cmap = \"Greys\", vmax = 1.2)"
   ]
  },
  {
   "cell_type": "markdown",
   "execution_count": null,
   "metadata": {},
   "outputs": [],
   "source": [
    "The adjacency matrix allows to easily see the presence of dense clusters (indeed, several cliques) in the graph, as well as a few nodes who seem to interact with almost all of the other ones. \n",
    "\n",
    "In this case, the adjacency matrix was already sorted by node in a way that made the structure clear. In more complicated cases, we may need to use a *community detection algorithm* to find a way to sort the nodes that reveals useful structure. This is a complicated (and thorny) topic which we'll touch on later in this course. \n",
    "\n",
    "## References"
   ]
  }
 ],
 "metadata": {
  "kernelspec": {
   "display_name": "Python 3 (ipykernel)",
   "language": "python",
   "name": "python3",
   "path": "/Users/philchodrow/My Drive (pchodrow@middlebury.edu)/teaching/networks-notes/env/share/jupyter/kernels/python3"
  }
 },
 "nbformat": 4,
 "nbformat_minor": 4
}
